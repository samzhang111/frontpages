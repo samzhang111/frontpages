{
 "cells": [
  {
   "cell_type": "markdown",
   "metadata": {},
   "source": [
    "# Trending words\n",
    "\n",
    "Let's analyze which words appear most often on a given day relative to a baseline. We can also do an n-grams-style line chart of which words tend to appear over time the most."
   ]
  },
  {
   "cell_type": "code",
   "execution_count": 2,
   "metadata": {
    "collapsed": true
   },
   "outputs": [],
   "source": [
    "from jupyter_cms.loader import load_notebook\n",
    "\n",
    "eda = load_notebook('./data_exploration.ipynb')\n",
    "\n",
    "df, newspapers = eda.load_data()"
   ]
  },
  {
   "cell_type": "code",
   "execution_count": 6,
   "metadata": {
    "collapsed": true
   },
   "outputs": [],
   "source": [
    "import pandas as pd\n",
    "\n",
    "pd.set_option('display.max_columns', 100)"
   ]
  },
  {
   "cell_type": "code",
   "execution_count": 7,
   "metadata": {},
   "outputs": [
    {
     "data": {
      "text/html": [
       "<div>\n",
       "<table border=\"1\" class=\"dataframe\">\n",
       "  <thead>\n",
       "    <tr style=\"text-align: right;\">\n",
       "      <th></th>\n",
       "      <th>text</th>\n",
       "      <th>fontface</th>\n",
       "      <th>fontsize</th>\n",
       "      <th>bbox_left</th>\n",
       "      <th>bbox_bottom</th>\n",
       "      <th>bbox_right</th>\n",
       "      <th>bbox_top</th>\n",
       "      <th>bbox_area</th>\n",
       "      <th>avg_character_area</th>\n",
       "      <th>percent_of_page</th>\n",
       "      <th>page</th>\n",
       "      <th>page_width</th>\n",
       "      <th>page_height</th>\n",
       "      <th>page_area</th>\n",
       "      <th>date</th>\n",
       "      <th>day_of_week</th>\n",
       "      <th>weekend</th>\n",
       "      <th>slug</th>\n",
       "      <th>id</th>\n",
       "      <th>page_height_round</th>\n",
       "      <th>page_width_round</th>\n",
       "      <th>page_width_round_10</th>\n",
       "      <th>page_height_round_10</th>\n",
       "      <th>aspect_ratio</th>\n",
       "    </tr>\n",
       "  </thead>\n",
       "  <tbody>\n",
       "    <tr>\n",
       "      <th>9</th>\n",
       "      <td>A blast on a subway killed 11 \\npeople Monday....</td>\n",
       "      <td>FrugalSans-Light-DTC</td>\n",
       "      <td>12.177</td>\n",
       "      <td>55.062</td>\n",
       "      <td>230.002</td>\n",
       "      <td>166.022</td>\n",
       "      <td>268.579</td>\n",
       "      <td>4280.50392</td>\n",
       "      <td>50.108339</td>\n",
       "      <td>0.003269</td>\n",
       "      <td>1</td>\n",
       "      <td>801.0</td>\n",
       "      <td>1634.976</td>\n",
       "      <td>1309615.776</td>\n",
       "      <td>2017-04-04</td>\n",
       "      <td>1</td>\n",
       "      <td>False</td>\n",
       "      <td>VA_DNR</td>\n",
       "      <td>40876</td>\n",
       "      <td>1634</td>\n",
       "      <td>801</td>\n",
       "      <td>800</td>\n",
       "      <td>1630</td>\n",
       "      <td>0.5</td>\n",
       "    </tr>\n",
       "    <tr>\n",
       "      <th>11</th>\n",
       "      <td>Donna R. Adkins, 68, \\nBridgewater \\nCalvin E....</td>\n",
       "      <td>CKLDCP+FranklinGothic-Demi</td>\n",
       "      <td>12.570</td>\n",
       "      <td>368.620</td>\n",
       "      <td>249.330</td>\n",
       "      <td>489.200</td>\n",
       "      <td>322.180</td>\n",
       "      <td>8784.25300</td>\n",
       "      <td>56.935536</td>\n",
       "      <td>0.006708</td>\n",
       "      <td>1</td>\n",
       "      <td>801.0</td>\n",
       "      <td>1634.976</td>\n",
       "      <td>1309615.776</td>\n",
       "      <td>2017-04-04</td>\n",
       "      <td>1</td>\n",
       "      <td>False</td>\n",
       "      <td>VA_DNR</td>\n",
       "      <td>40878</td>\n",
       "      <td>1634</td>\n",
       "      <td>801</td>\n",
       "      <td>800</td>\n",
       "      <td>1630</td>\n",
       "      <td>0.5</td>\n",
       "    </tr>\n",
       "    <tr>\n",
       "      <th>12</th>\n",
       "      <td>Nancy M. Lawrence, 86, Elkton \\nOlive V. Roop,...</td>\n",
       "      <td>CKLIDL+FranklinGothic-Book</td>\n",
       "      <td>12.850</td>\n",
       "      <td>509.320</td>\n",
       "      <td>249.330</td>\n",
       "      <td>639.739</td>\n",
       "      <td>322.180</td>\n",
       "      <td>9501.02415</td>\n",
       "      <td>56.830592</td>\n",
       "      <td>0.007255</td>\n",
       "      <td>1</td>\n",
       "      <td>801.0</td>\n",
       "      <td>1634.976</td>\n",
       "      <td>1309615.776</td>\n",
       "      <td>2017-04-04</td>\n",
       "      <td>1</td>\n",
       "      <td>False</td>\n",
       "      <td>VA_DNR</td>\n",
       "      <td>40879</td>\n",
       "      <td>1634</td>\n",
       "      <td>801</td>\n",
       "      <td>800</td>\n",
       "      <td>1630</td>\n",
       "      <td>0.5</td>\n",
       "    </tr>\n",
       "  </tbody>\n",
       "</table>\n",
       "</div>"
      ],
      "text/plain": [
       "                                                 text  \\\n",
       "9   A blast on a subway killed 11 \\npeople Monday....   \n",
       "11  Donna R. Adkins, 68, \\nBridgewater \\nCalvin E....   \n",
       "12  Nancy M. Lawrence, 86, Elkton \\nOlive V. Roop,...   \n",
       "\n",
       "                      fontface  fontsize  bbox_left  bbox_bottom  bbox_right  \\\n",
       "9         FrugalSans-Light-DTC    12.177     55.062      230.002     166.022   \n",
       "11  CKLDCP+FranklinGothic-Demi    12.570    368.620      249.330     489.200   \n",
       "12  CKLIDL+FranklinGothic-Book    12.850    509.320      249.330     639.739   \n",
       "\n",
       "    bbox_top   bbox_area  avg_character_area  percent_of_page page  \\\n",
       "9    268.579  4280.50392           50.108339         0.003269    1   \n",
       "11   322.180  8784.25300           56.935536         0.006708    1   \n",
       "12   322.180  9501.02415           56.830592         0.007255    1   \n",
       "\n",
       "    page_width  page_height    page_area       date  day_of_week weekend  \\\n",
       "9        801.0     1634.976  1309615.776 2017-04-04            1   False   \n",
       "11       801.0     1634.976  1309615.776 2017-04-04            1   False   \n",
       "12       801.0     1634.976  1309615.776 2017-04-04            1   False   \n",
       "\n",
       "      slug     id  page_height_round  page_width_round  page_width_round_10  \\\n",
       "9   VA_DNR  40876               1634               801                  800   \n",
       "11  VA_DNR  40878               1634               801                  800   \n",
       "12  VA_DNR  40879               1634               801                  800   \n",
       "\n",
       "    page_height_round_10  aspect_ratio  \n",
       "9                   1630           0.5  \n",
       "11                  1630           0.5  \n",
       "12                  1630           0.5  "
      ]
     },
     "execution_count": 7,
     "metadata": {},
     "output_type": "execute_result"
    }
   ],
   "source": [
    "df.head(3)"
   ]
  },
  {
   "cell_type": "code",
   "execution_count": 10,
   "metadata": {},
   "outputs": [
    {
     "name": "stdout",
     "output_type": "stream",
     "text": [
      "Rows: 796938\n",
      "Dates: 105 (2017-04-01 00:00:00 - 2017-07-23 00:00:00)\n"
     ]
    }
   ],
   "source": [
    "print('''Rows: {}\n",
    "Dates: {} ({} - {})\n",
    "'''.format(\n",
    "    df.shape[0],\n",
    "    df.date.nunique(),\n",
    "    df.date.min(),\n",
    "    df.date.max()\n",
    "))"
   ]
  },
  {
   "cell_type": "code",
   "execution_count": 14,
   "metadata": {
    "collapsed": true
   },
   "outputs": [],
   "source": [
    "import spacy\n",
    "\n",
    "nlp = spacy.load('en')"
   ]
  },
  {
   "cell_type": "code",
   "execution_count": 41,
   "metadata": {},
   "outputs": [
    {
     "name": "stdout",
     "output_type": "stream",
     "text": [
      "................................................................................................................................................................"
     ]
    }
   ],
   "source": [
    "docs = []\n",
    "for i, doc in enumerate(nlp.pipe(df.text, batch_size=10000, n_threads=7)):\n",
    "    if i % 5000 == 0:\n",
    "        print('.', end='')\n",
    "    docs.append(doc)"
   ]
  },
  {
   "cell_type": "code",
   "execution_count": 268,
   "metadata": {
    "collapsed": true
   },
   "outputs": [],
   "source": [
    "def remove_token(t):\n",
    "    return not t.is_alpha or t.is_stop"
   ]
  },
  {
   "cell_type": "code",
   "execution_count": 270,
   "metadata": {
    "collapsed": true
   },
   "outputs": [],
   "source": [
    "lemmas = []\n",
    "\n",
    "for d in docs:\n",
    "    d_lemmas = []\n",
    "    for t in d:\n",
    "        if not remove_token(t):\n",
    "            d_lemmas.append(t.lemma_)\n",
    "    \n",
    "    lemmas.append(d_lemmas)"
   ]
  },
  {
   "cell_type": "code",
   "execution_count": 271,
   "metadata": {
    "collapsed": true
   },
   "outputs": [],
   "source": [
    "import itertools\n",
    "df['lemmas'] = lemmas"
   ]
  },
  {
   "cell_type": "code",
   "execution_count": 346,
   "metadata": {
    "collapsed": true
   },
   "outputs": [],
   "source": [
    "newspaper_text = df.groupby(['date']).lemmas.apply(lambda x: list(itertools.chain(*x)))\n",
    "newspapers_per_day = df.groupby(['date']).slug.nunique()"
   ]
  },
  {
   "cell_type": "code",
   "execution_count": 357,
   "metadata": {},
   "outputs": [
    {
     "name": "stdout",
     "output_type": "stream",
     "text": [
      "."
     ]
    }
   ],
   "source": [
    "import sys\n",
    "from collections import Counter\n",
    "\n",
    "newspaper_tfs = []\n",
    "\n",
    "# tf - number of times word shows up in current document\n",
    "# doc_freqs - number of documents that has a given word\n",
    "\n",
    "for i, d in enumerate(newspaper_text):\n",
    "    if i % 10000 == 0:\n",
    "        print('.', end='')\n",
    "        sys.stdout.flush()\n",
    "    tf = Counter(d)\n",
    "    newspaper_tfs.append(tf)"
   ]
  },
  {
   "cell_type": "markdown",
   "metadata": {},
   "source": [
    "To detect anomolously high usage of a word on a day, we want several things:\n",
    "\n",
    "* High usage of the word relative to a baseline (every other day)\n",
    "* High usage of the word in general. For example, it isn't as meaningful to have a single word used once, and to say that it is infinitely more common in that one particular document.\n",
    "* To avoid the situation where a document itself will overwhelm the entire corpus through frequent usage of a term.\n",
    "\n",
    "We also want a multi-level model that will estimate two things in tandem: the presence of clusters of topics, as well as anomolous vocabulary usage _within_ each topic.\n",
    "\n",
    "Already we can compare two numbers: how frequently a word appears in the text vs. how frequently it appears in other documents that mention that word."
   ]
  },
  {
   "cell_type": "code",
   "execution_count": 398,
   "metadata": {
    "collapsed": true
   },
   "outputs": [],
   "source": [
    "%matplotlib inline\n",
    "import seaborn as sns\n",
    "import matplotlib.pyplot as plt"
   ]
  },
  {
   "cell_type": "code",
   "execution_count": 423,
   "metadata": {},
   "outputs": [
    {
     "data": {
      "image/png": "[encoded data removed]",
      "text/plain": [
       "<matplotlib.figure.Figure at 0x7fbecf6a1a58>"
      ]
     },
     "metadata": {},
     "output_type": "display_data"
    }
   ],
   "source": [
    "fig = plt.figure(figsize=(12, 5))\n",
    "plot1 = fig.add_subplot(131)\n",
    "plot2 = fig.add_subplot(132)\n",
    "plot3 = fig.add_subplot(133)\n",
    "\n",
    "plot1.plot(range(len(newspaper_text)), [len(text) for text in newspaper_text])\n",
    "plot1.set_xlabel(\"Day of scrape\")\n",
    "plot1.set_ylabel(\"Words\")\n",
    "\n",
    "plot2.plot(range(len(day_vocab_props)), [len(x) for x in day_vocab_props])\n",
    "plot2.set_xlabel(\"Day of scrape\")\n",
    "plot2.set_ylabel(\"Unique words\")\n",
    "\n",
    "plot3.plot(range(len(newspapers_per_day)), newspapers_per_day.values)\n",
    "plot3.set_xlabel(\"Day of scrape\")\n",
    "plot3.set_ylabel(\"Number of newspapers\")\n",
    "plt.tight_layout()"
   ]
  },
  {
   "cell_type": "code",
   "execution_count": 438,
   "metadata": {
    "collapsed": true
   },
   "outputs": [],
   "source": [
    "from sklearn.feature_extraction import DictVectorizer\n",
    "dv = DictVectorizer()\n",
    "X = dv.fit_transform(newspaper_tfs)"
   ]
  },
  {
   "cell_type": "code",
   "execution_count": 468,
   "metadata": {},
   "outputs": [
    {
     "data": {
      "text/plain": [
       "array([ 0.,  0.,  1.,  0.,  0.])"
      ]
     },
     "execution_count": 468,
     "metadata": {},
     "output_type": "execute_result"
    }
   ],
   "source": [
    "from sklearn.feature_selection import chi2\n",
    "\n",
    "def get_labels_for_day(day, N):\n",
    "    arr = np.zeros(N)\n",
    "    arr[day] = 1\n",
    "    \n",
    "    return arr\n",
    "\n",
    "get_labels_for_day(2, 5)"
   ]
  },
  {
   "cell_type": "code",
   "execution_count": null,
   "metadata": {
    "collapsed": true
   },
   "outputs": [],
   "source": [
    "N = len(newspaper_tfs)\n",
    "words = np.array(dv.get_feature_names())"
   ]
  },
  {
   "cell_type": "code",
   "execution_count": 502,
   "metadata": {},
   "outputs": [
    {
     "name": "stdout",
     "output_type": "stream",
     "text": [
      "........................................................................................................."
     ]
    }
   ],
   "source": [
    "top_words_by_day = []\n",
    "\n",
    "for i in range(N):\n",
    "    print('.', end = '')\n",
    "    sys.stdout.flush()\n",
    "    \n",
    "    keyness, _ = chi2(X, get_labels_for_day(i, N))\n",
    "    ranking = np.argsort(keyness)[::-1]\n",
    "    top_words = words[ranking]\n",
    "    top_words_by_day.append(list(zip(top_words, keyness[ranking])))"
   ]
  },
  {
   "cell_type": "code",
   "execution_count": 506,
   "metadata": {},
   "outputs": [
    {
     "data": {
      "text/plain": [
       "148002120"
      ]
     },
     "execution_count": 506,
     "metadata": {},
     "output_type": "execute_result"
    }
   ],
   "source": [
    "sum([sys.getsizeof(x) for x in top_words_by_day])"
   ]
  },
  {
   "cell_type": "code",
   "execution_count": 536,
   "metadata": {},
   "outputs": [
    {
     "name": "stdout",
     "output_type": "stream",
     "text": [
      "........................................................................................................."
     ]
    }
   ],
   "source": [
    "for date, top_words in zip(newspaper_meta, top_words_by_day):\n",
    "    print('.', end='')\n",
    "    sys.stdout.flush()\n",
    "    \n",
    "    date_str = pd.to_datetime(str(date)).strftime('%Y-%m-%d')\n",
    "    \n",
    "    with open('results/top-words/{}.csv'.format(date_str), 'w') as out:\n",
    "        out.write('\\n'.join([','.join([line[0], str(np.round(line[1], 2))]) for line in top_words]))"
   ]
  },
  {
   "cell_type": "code",
   "execution_count": 539,
   "metadata": {
    "collapsed": true
   },
   "outputs": [],
   "source": [
    "newspaper_day_text = df.groupby(['date', 'slug']).lemmas.apply(lambda x: list(itertools.chain(*x)))"
   ]
  },
  {
   "cell_type": "code",
   "execution_count": 549,
   "metadata": {
    "collapsed": true
   },
   "outputs": [],
   "source": [
    "newspaper_day_meta = df.groupby(['date', 'slug']).first().reset_index()[['date', 'slug']]"
   ]
  },
  {
   "cell_type": "code",
   "execution_count": 654,
   "metadata": {
    "collapsed": true
   },
   "outputs": [],
   "source": [
    "newspaper_day_tf = []\n",
    "\n",
    "for lemmas in newspaper_day_text:\n",
    "    newspaper_day_tf.append(Counter([lemma for lemma in lemmas if len(lemma) > 2]))"
   ]
  },
  {
   "cell_type": "code",
   "execution_count": 655,
   "metadata": {
    "collapsed": true
   },
   "outputs": [],
   "source": [
    "dv = DictVectorizer()\n",
    "X = dv.fit_transform(newspaper_day_tf)"
   ]
  },
  {
   "cell_type": "code",
   "execution_count": 656,
   "metadata": {
    "collapsed": true
   },
   "outputs": [],
   "source": [
    "newspaper_day_tf = np.array(newspaper_day_tf)"
   ]
  },
  {
   "cell_type": "code",
   "execution_count": 620,
   "metadata": {
    "collapsed": true
   },
   "outputs": [],
   "source": [
    "def get_day(day):\n",
    "    date = newspaper_day_meta.date.unique()[day]\n",
    "    return newspaper_day_meta[newspaper_day_meta.date == date].index"
   ]
  },
  {
   "cell_type": "code",
   "execution_count": 608,
   "metadata": {
    "collapsed": true
   },
   "outputs": [],
   "source": [
    "def get_slug_in_day(slug, day):\n",
    "    date = newspaper_day_meta.date.unique()[day]\n",
    "    ndf = newspaper_day_meta[newspaper_day_meta.date == date].reset_index()\n",
    "    return ndf[ndf.slug == slug].index[0]"
   ]
  },
  {
   "cell_type": "code",
   "execution_count": 615,
   "metadata": {
    "collapsed": true
   },
   "outputs": [],
   "source": [
    "def get_day_slugs(day):\n",
    "    date = newspaper_day_meta.date.unique()[day]\n",
    "    return newspaper_day_meta[newspaper_day_meta.date == date].slug.values"
   ]
  },
  {
   "cell_type": "code",
   "execution_count": null,
   "metadata": {},
   "outputs": [
    {
     "name": "stdout",
     "output_type": "stream",
     "text": [
      "..."
     ]
    },
    {
     "ename": "KeyboardInterrupt",
     "evalue": "",
     "output_type": "error",
     "traceback": [
      "\u001b[0;31m---------------------------------------------------------------------------\u001b[0m",
      "\u001b[0;31mKeyboardInterrupt\u001b[0m                         Traceback (most recent call last)",
      "\u001b[0;32m<ipython-input-657-7fd924890306>\u001b[0m in \u001b[0;36m<module>\u001b[0;34m()\u001b[0m\n\u001b[1;32m     14\u001b[0m         \u001b[0mj\u001b[0m \u001b[0;34m=\u001b[0m \u001b[0mget_slug_in_day\u001b[0m\u001b[0;34m(\u001b[0m\u001b[0mslug\u001b[0m\u001b[0;34m,\u001b[0m \u001b[0mi\u001b[0m\u001b[0;34m)\u001b[0m\u001b[0;34m\u001b[0m\u001b[0m\n\u001b[1;32m     15\u001b[0m \u001b[0;34m\u001b[0m\u001b[0m\n\u001b[0;32m---> 16\u001b[0;31m         \u001b[0mkeyness\u001b[0m\u001b[0;34m,\u001b[0m \u001b[0m_\u001b[0m \u001b[0;34m=\u001b[0m \u001b[0mchi2\u001b[0m\u001b[0;34m(\u001b[0m\u001b[0mX_universe\u001b[0m\u001b[0;34m,\u001b[0m \u001b[0mget_labels_for_day\u001b[0m\u001b[0;34m(\u001b[0m\u001b[0mj\u001b[0m\u001b[0;34m,\u001b[0m \u001b[0mM\u001b[0m\u001b[0;34m)\u001b[0m\u001b[0;34m)\u001b[0m\u001b[0;34m\u001b[0m\u001b[0m\n\u001b[0m\u001b[1;32m     17\u001b[0m         \u001b[0mranking\u001b[0m \u001b[0;34m=\u001b[0m \u001b[0mnp\u001b[0m\u001b[0;34m.\u001b[0m\u001b[0margsort\u001b[0m\u001b[0;34m(\u001b[0m\u001b[0mnp\u001b[0m\u001b[0;34m.\u001b[0m\u001b[0mnan_to_num\u001b[0m\u001b[0;34m(\u001b[0m\u001b[0mkeyness\u001b[0m\u001b[0;34m)\u001b[0m\u001b[0;34m)\u001b[0m\u001b[0;34m[\u001b[0m\u001b[0;34m:\u001b[0m\u001b[0;34m:\u001b[0m\u001b[0;34m-\u001b[0m\u001b[0;36m1\u001b[0m\u001b[0;34m]\u001b[0m\u001b[0;34m\u001b[0m\u001b[0m\n\u001b[1;32m     18\u001b[0m         \u001b[0mtop_words\u001b[0m \u001b[0;34m=\u001b[0m \u001b[0mwords\u001b[0m\u001b[0;34m[\u001b[0m\u001b[0mranking\u001b[0m\u001b[0;34m[\u001b[0m\u001b[0;34m:\u001b[0m\u001b[0;36m100\u001b[0m\u001b[0;34m]\u001b[0m\u001b[0;34m]\u001b[0m\u001b[0;34m\u001b[0m\u001b[0m\n",
      "\u001b[0;32m/home/sam/workspace/frontpages/analysis/venv/lib/python3.5/site-packages/sklearn/feature_selection/univariate_selection.py\u001b[0m in \u001b[0;36mchi2\u001b[0;34m(X, y)\u001b[0m\n\u001b[1;32m    225\u001b[0m     \u001b[0mexpected\u001b[0m \u001b[0;34m=\u001b[0m \u001b[0mnp\u001b[0m\u001b[0;34m.\u001b[0m\u001b[0mdot\u001b[0m\u001b[0;34m(\u001b[0m\u001b[0mclass_prob\u001b[0m\u001b[0;34m.\u001b[0m\u001b[0mT\u001b[0m\u001b[0;34m,\u001b[0m \u001b[0mfeature_count\u001b[0m\u001b[0;34m)\u001b[0m\u001b[0;34m\u001b[0m\u001b[0m\n\u001b[1;32m    226\u001b[0m \u001b[0;34m\u001b[0m\u001b[0m\n\u001b[0;32m--> 227\u001b[0;31m     \u001b[0;32mreturn\u001b[0m \u001b[0m_chisquare\u001b[0m\u001b[0;34m(\u001b[0m\u001b[0mobserved\u001b[0m\u001b[0;34m,\u001b[0m \u001b[0mexpected\u001b[0m\u001b[0;34m)\u001b[0m\u001b[0;34m\u001b[0m\u001b[0m\n\u001b[0m\u001b[1;32m    228\u001b[0m \u001b[0;34m\u001b[0m\u001b[0m\n\u001b[1;32m    229\u001b[0m \u001b[0;34m\u001b[0m\u001b[0m\n",
      "\u001b[0;32m/home/sam/workspace/frontpages/analysis/venv/lib/python3.5/site-packages/sklearn/feature_selection/univariate_selection.py\u001b[0m in \u001b[0;36m_chisquare\u001b[0;34m(f_obs, f_exp)\u001b[0m\n\u001b[1;32m    166\u001b[0m         \u001b[0mchisq\u001b[0m \u001b[0;34m/=\u001b[0m \u001b[0mf_exp\u001b[0m\u001b[0;34m\u001b[0m\u001b[0m\n\u001b[1;32m    167\u001b[0m     \u001b[0mchisq\u001b[0m \u001b[0;34m=\u001b[0m \u001b[0mchisq\u001b[0m\u001b[0;34m.\u001b[0m\u001b[0msum\u001b[0m\u001b[0;34m(\u001b[0m\u001b[0maxis\u001b[0m\u001b[0;34m=\u001b[0m\u001b[0;36m0\u001b[0m\u001b[0;34m)\u001b[0m\u001b[0;34m\u001b[0m\u001b[0m\n\u001b[0;32m--> 168\u001b[0;31m     \u001b[0;32mreturn\u001b[0m \u001b[0mchisq\u001b[0m\u001b[0;34m,\u001b[0m \u001b[0mspecial\u001b[0m\u001b[0;34m.\u001b[0m\u001b[0mchdtrc\u001b[0m\u001b[0;34m(\u001b[0m\u001b[0mk\u001b[0m \u001b[0;34m-\u001b[0m \u001b[0;36m1\u001b[0m\u001b[0;34m,\u001b[0m \u001b[0mchisq\u001b[0m\u001b[0;34m)\u001b[0m\u001b[0;34m\u001b[0m\u001b[0m\n\u001b[0m\u001b[1;32m    169\u001b[0m \u001b[0;34m\u001b[0m\u001b[0m\n\u001b[1;32m    170\u001b[0m \u001b[0;34m\u001b[0m\u001b[0m\n",
      "\u001b[0;31mKeyboardInterrupt\u001b[0m: "
     ]
    }
   ],
   "source": [
    "top_words_by_slug_day = []\n",
    "words = np.array(dv.get_feature_names())\n",
    "\n",
    "for i in range(N):\n",
    "    print('.', end = '')\n",
    "    sys.stdout.flush()\n",
    "    \n",
    "    day_ix = get_day(i)\n",
    "    X_universe = X[day_ix, ]\n",
    "    \n",
    "    day_slugs = get_day_slugs(i)\n",
    "    M = len(day_slugs)\n",
    "    for slug in day_slugs:\n",
    "        j = get_slug_in_day(slug, i)\n",
    "        \n",
    "        keyness, _ = chi2(X_universe, get_labels_for_day(j, M))\n",
    "        ranking = np.argsort(np.nan_to_num(keyness))[::-1]\n",
    "        top_words = words[ranking[:100]]\n",
    "        top_words_by_slug_day.append(top_words)"
   ]
  },
  {
   "cell_type": "code",
   "execution_count": null,
   "metadata": {
    "collapsed": true
   },
   "outputs": [],
   "source": [
    "len(top_words_by_slug_day)"
   ]
  },
  {
   "cell_type": "code",
   "execution_count": null,
   "metadata": {
    "collapsed": true
   },
   "outputs": [],
   "source": [
    "1"
   ]
  },
  {
   "cell_type": "code",
   "execution_count": null,
   "metadata": {
    "collapsed": true
   },
   "outputs": [],
   "source": [
    "1"
   ]
  }
 ],
 "metadata": {
  "kernelspec": {
   "display_name": "Python 3",
   "language": "python",
   "name": "python3"
  },
  "language_info": {
   "codemirror_mode": {
    "name": "ipython",
    "version": 3
   },
   "file_extension": ".py",
   "mimetype": "text/x-python",
   "name": "python",
   "nbconvert_exporter": "python",
   "pygments_lexer": "ipython3",
   "version": "3.6.2"
  }
 },
 "nbformat": 4,
 "nbformat_minor": 2
}
