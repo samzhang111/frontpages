{
 "cells": [
  {
   "cell_type": "code",
   "execution_count": 159,
   "metadata": {
    "collapsed": true
   },
   "outputs": [],
   "source": [
    "from jupyter_cms.loader import load_notebook\n",
    "\n",
    "eda = load_notebook('./data_exploration.ipynb')\n",
    "\n",
    "df, newspapers = eda.load_data()"
   ]
  },
  {
   "cell_type": "code",
   "execution_count": 160,
   "metadata": {},
   "outputs": [
    {
     "data": {
      "text/html": [
       "<div>\n",
       "<table border=\"1\" class=\"dataframe\">\n",
       "  <thead>\n",
       "    <tr style=\"text-align: right;\">\n",
       "      <th></th>\n",
       "      <th>text</th>\n",
       "      <th>fontface</th>\n",
       "      <th>fontsize</th>\n",
       "      <th>bbox_left</th>\n",
       "      <th>bbox_bottom</th>\n",
       "      <th>bbox_right</th>\n",
       "      <th>bbox_top</th>\n",
       "      <th>bbox_area</th>\n",
       "      <th>avg_character_area</th>\n",
       "      <th>percent_of_page</th>\n",
       "      <th>page</th>\n",
       "      <th>page_width</th>\n",
       "      <th>page_height</th>\n",
       "      <th>page_area</th>\n",
       "      <th>date</th>\n",
       "      <th>day_of_week</th>\n",
       "      <th>weekend</th>\n",
       "      <th>slug</th>\n",
       "      <th>id</th>\n",
       "      <th>page_height_round</th>\n",
       "      <th>page_width_round</th>\n",
       "      <th>page_width_round_10</th>\n",
       "      <th>page_height_round_10</th>\n",
       "      <th>aspect_ratio</th>\n",
       "    </tr>\n",
       "  </thead>\n",
       "  <tbody>\n",
       "    <tr>\n",
       "      <th>948</th>\n",
       "      <td>GET YOUR TICKETS!</td>\n",
       "      <td>SalvoSansExtraCond-Black</td>\n",
       "      <td>28.665</td>\n",
       "      <td>197.963</td>\n",
       "      <td>1413.262</td>\n",
       "      <td>352.508</td>\n",
       "      <td>1441.927</td>\n",
       "      <td>4430.032425</td>\n",
       "      <td>262.598379</td>\n",
       "      <td>0.004117</td>\n",
       "      <td>1</td>\n",
       "      <td>729.0</td>\n",
       "      <td>1476.0</td>\n",
       "      <td>1076004.0</td>\n",
       "      <td>2017-12-04</td>\n",
       "      <td>0</td>\n",
       "      <td>False</td>\n",
       "      <td>AL_TN</td>\n",
       "      <td>949</td>\n",
       "      <td>1476</td>\n",
       "      <td>729</td>\n",
       "      <td>720</td>\n",
       "      <td>1470</td>\n",
       "      <td>0.5</td>\n",
       "    </tr>\n",
       "    <tr>\n",
       "      <th>949</th>\n",
       "      <td>Styx is returning to the \\nTuscaloosa Amphithe...</td>\n",
       "      <td>SalvoSans-Bold</td>\n",
       "      <td>14.250</td>\n",
       "      <td>197.963</td>\n",
       "      <td>1352.900</td>\n",
       "      <td>338.523</td>\n",
       "      <td>1411.150</td>\n",
       "      <td>8187.620000</td>\n",
       "      <td>76.041081</td>\n",
       "      <td>0.007609</td>\n",
       "      <td>1</td>\n",
       "      <td>729.0</td>\n",
       "      <td>1476.0</td>\n",
       "      <td>1076004.0</td>\n",
       "      <td>2017-12-04</td>\n",
       "      <td>0</td>\n",
       "      <td>False</td>\n",
       "      <td>AL_TN</td>\n",
       "      <td>950</td>\n",
       "      <td>1476</td>\n",
       "      <td>729</td>\n",
       "      <td>720</td>\n",
       "      <td>1470</td>\n",
       "      <td>0.5</td>\n",
       "    </tr>\n",
       "  </tbody>\n",
       "</table>\n",
       "</div>"
      ],
      "text/plain": [
       "                                                  text  \\\n",
       "948                                  GET YOUR TICKETS!   \n",
       "949  Styx is returning to the \\nTuscaloosa Amphithe...   \n",
       "\n",
       "                     fontface  fontsize  bbox_left  bbox_bottom  bbox_right  \\\n",
       "948  SalvoSansExtraCond-Black    28.665    197.963     1413.262     352.508   \n",
       "949            SalvoSans-Bold    14.250    197.963     1352.900     338.523   \n",
       "\n",
       "     bbox_top    bbox_area  avg_character_area  percent_of_page page  \\\n",
       "948  1441.927  4430.032425          262.598379         0.004117    1   \n",
       "949  1411.150  8187.620000           76.041081         0.007609    1   \n",
       "\n",
       "     page_width  page_height  page_area       date  day_of_week weekend  \\\n",
       "948       729.0       1476.0  1076004.0 2017-12-04            0   False   \n",
       "949       729.0       1476.0  1076004.0 2017-12-04            0   False   \n",
       "\n",
       "      slug   id  page_height_round  page_width_round  page_width_round_10  \\\n",
       "948  AL_TN  949               1476               729                  720   \n",
       "949  AL_TN  950               1476               729                  720   \n",
       "\n",
       "     page_height_round_10  aspect_ratio  \n",
       "948                  1470           0.5  \n",
       "949                  1470           0.5  "
      ]
     },
     "execution_count": 160,
     "metadata": {},
     "output_type": "execute_result"
    }
   ],
   "source": [
    "import pandas as pd\n",
    "\n",
    "pd.set_option('display.max_columns', 100)\n",
    "\n",
    "df.head(2)"
   ]
  },
  {
   "cell_type": "code",
   "execution_count": 128,
   "metadata": {},
   "outputs": [
    {
     "data": {
      "text/plain": [
       "(13727, 24)"
      ]
     },
     "execution_count": 128,
     "metadata": {},
     "output_type": "execute_result"
    }
   ],
   "source": [
    "dc = df[df.slug == 'DC_WP']\n",
    "lat = df[df.slug == 'CA_LAT']\n",
    "lat.shape"
   ]
  },
  {
   "cell_type": "code",
   "execution_count": 134,
   "metadata": {},
   "outputs": [
    {
     "data": {
      "text/plain": [
       "text                    32\n",
       "fontface                32\n",
       "fontsize                32\n",
       "bbox_left               32\n",
       "bbox_bottom             32\n",
       "bbox_right              32\n",
       "bbox_top                32\n",
       "bbox_area               32\n",
       "avg_character_area      32\n",
       "percent_of_page         32\n",
       "page                    32\n",
       "page_width              32\n",
       "page_height             32\n",
       "page_area               32\n",
       "date                    32\n",
       "day_of_week             32\n",
       "weekend                 32\n",
       "slug                    32\n",
       "id                      32\n",
       "page_height_round       32\n",
       "page_width_round        32\n",
       "page_width_round_10     32\n",
       "page_height_round_10    32\n",
       "aspect_ratio            32\n",
       "dtype: int64"
      ]
     },
     "execution_count": 134,
     "metadata": {},
     "output_type": "execute_result"
    }
   ],
   "source": [
    "from datetime import datetime\n",
    "\n",
    "lat[lat.date == datetime(2017, 10, 20)]"
   ]
  },
  {
   "cell_type": "code",
   "execution_count": 136,
   "metadata": {},
   "outputs": [
    {
     "data": {
      "text/html": [
       "<div>\n",
       "<table border=\"1\" class=\"dataframe\">\n",
       "  <thead>\n",
       "    <tr style=\"text-align: right;\">\n",
       "      <th></th>\n",
       "      <th>city</th>\n",
       "      <th>country</th>\n",
       "      <th>latitude</th>\n",
       "      <th>longitude</th>\n",
       "      <th>slug</th>\n",
       "      <th>state</th>\n",
       "      <th>title</th>\n",
       "      <th>website</th>\n",
       "    </tr>\n",
       "  </thead>\n",
       "  <tbody>\n",
       "    <tr>\n",
       "      <th>212</th>\n",
       "      <td>Worcester</td>\n",
       "      <td>USA</td>\n",
       "      <td>42.2621</td>\n",
       "      <td>-71.80217</td>\n",
       "      <td>MA_TG</td>\n",
       "      <td>MA</td>\n",
       "      <td>Telegram &amp; Gazette</td>\n",
       "      <td>http://www.telegram.com</td>\n",
       "    </tr>\n",
       "  </tbody>\n",
       "</table>\n",
       "</div>"
      ],
      "text/plain": [
       "          city country  latitude  longitude   slug state               title  \\\n",
       "212  Worcester     USA   42.2621  -71.80217  MA_TG    MA  Telegram & Gazette   \n",
       "\n",
       "                     website  \n",
       "212  http://www.telegram.com  "
      ]
     },
     "execution_count": 136,
     "metadata": {},
     "output_type": "execute_result"
    }
   ],
   "source": [
    "newspapers[newspapers.city == \"Worcester\"]"
   ]
  },
  {
   "cell_type": "code",
   "execution_count": 207,
   "metadata": {
    "collapsed": true
   },
   "outputs": [],
   "source": [
    "def print_row(i, row):\n",
    "    print(\"#{i}: {title} — {date:%b. %-d} — {fontsize:.2f}pt\".format(\n",
    "        i=i + 1,\n",
    "        title=\" \".join(row.text.split()),\n",
    "        date=row.date,\n",
    "        fontsize=row.fontsize))\n",
    "    #print('Text: ' + ' '.join(row.text.split()))\n",
    "    #print(\"Date: {:%Y-%m-%d} ({})\".format(row.date, [\"Monday\", \"Tuesday\", \"Wednesday\", \"Thursday\", \"Friday\", \"Saturday\", \"Sunday\"][row.day_of_week]))\n",
    "    #print(\"Font: {} (size: {})\".format(row.fontface, row.fontsize))\n",
    "    \n",
    "def largest_font_headlines(npdf, paper):\n",
    "    npdf = npdf[(npdf.bbox_top > npdf.page_height / 2) & (npdf.month >= 6)]\n",
    "    top = npdf.sort_values(by='fontsize', ascending=False).head(20)\n",
    "    print(paper)\n",
    "    for i, (_, row) in enumerate(top.iterrows()):\n",
    "        print_row(i, row)\n",
    "\n",
    "def largest_area_headlines(npdf, paper):\n",
    "    npdf = npdf[(npdf.bbox_top > npdf.page_height / 2) & (npdf.fontsize > 20)]\n",
    "    top = npdf.sort_values(by='percent_of_page', ascending=False).head(10)\n",
    "    print(paper)\n",
    "    for i, (_, row) in enumerate(top.iterrows()):\n",
    "        print(\"#{}\".format(i + 1))\n",
    "        print_row(row)"
   ]
  },
  {
   "cell_type": "code",
   "execution_count": 165,
   "metadata": {
    "collapsed": true
   },
   "outputs": [],
   "source": [
    "df['month'] = df['date'].apply(lambda x: x.month)"
   ]
  },
  {
   "cell_type": "code",
   "execution_count": 170,
   "metadata": {
    "collapsed": true
   },
   "outputs": [],
   "source": [
    "largest_per_day = df.groupby(['date', 'slug']).fontsize.max()"
   ]
  },
  {
   "cell_type": "code",
   "execution_count": 180,
   "metadata": {
    "collapsed": true
   },
   "outputs": [],
   "source": [
    "df_largest = largest_per_day.reset_index()"
   ]
  },
  {
   "cell_type": "code",
   "execution_count": 177,
   "metadata": {
    "collapsed": true
   },
   "outputs": [],
   "source": [
    "slugs_of_interest = [\n",
    "    'WSJ',\n",
    "    'USAT',\n",
    "    'CA_LAT',\n",
    "    'CA_MN',\n",
    "    'NY_DN',\n",
    "    'DC_WP',\n",
    "    'IL_CST',\n",
    "    'CO_DP',\n",
    "    'IL_CT',\n",
    "    'TX_DMN'\n",
    "]"
   ]
  },
  {
   "cell_type": "code",
   "execution_count": 181,
   "metadata": {
    "collapsed": true
   },
   "outputs": [],
   "source": [
    "df_largest_care = df_largest[df_largest.slug.isin(slugs_of_interest)]"
   ]
  },
  {
   "cell_type": "code",
   "execution_count": 182,
   "metadata": {},
   "outputs": [
    {
     "data": {
      "text/html": [
       "<div>\n",
       "<table border=\"1\" class=\"dataframe\">\n",
       "  <thead>\n",
       "    <tr style=\"text-align: right;\">\n",
       "      <th></th>\n",
       "      <th>date</th>\n",
       "      <th>slug</th>\n",
       "      <th>fontsize</th>\n",
       "    </tr>\n",
       "  </thead>\n",
       "  <tbody>\n",
       "    <tr>\n",
       "      <th>27</th>\n",
       "      <td>2017-04-01</td>\n",
       "      <td>CA_LAT</td>\n",
       "      <td>81.300</td>\n",
       "    </tr>\n",
       "    <tr>\n",
       "      <th>33</th>\n",
       "      <td>2017-04-01</td>\n",
       "      <td>CA_MN</td>\n",
       "      <td>72.000</td>\n",
       "    </tr>\n",
       "    <tr>\n",
       "      <th>60</th>\n",
       "      <td>2017-04-01</td>\n",
       "      <td>CO_DP</td>\n",
       "      <td>73.656</td>\n",
       "    </tr>\n",
       "    <tr>\n",
       "      <th>82</th>\n",
       "      <td>2017-04-01</td>\n",
       "      <td>DC_WP</td>\n",
       "      <td>52.290</td>\n",
       "    </tr>\n",
       "    <tr>\n",
       "      <th>134</th>\n",
       "      <td>2017-04-01</td>\n",
       "      <td>IL_CST</td>\n",
       "      <td>194.157</td>\n",
       "    </tr>\n",
       "  </tbody>\n",
       "</table>\n",
       "</div>"
      ],
      "text/plain": [
       "          date    slug  fontsize\n",
       "27  2017-04-01  CA_LAT    81.300\n",
       "33  2017-04-01   CA_MN    72.000\n",
       "60  2017-04-01   CO_DP    73.656\n",
       "82  2017-04-01   DC_WP    52.290\n",
       "134 2017-04-01  IL_CST   194.157"
      ]
     },
     "execution_count": 182,
     "metadata": {},
     "output_type": "execute_result"
    }
   ],
   "source": [
    "df_largest_care.head()"
   ]
  },
  {
   "cell_type": "code",
   "execution_count": 185,
   "metadata": {
    "collapsed": true
   },
   "outputs": [],
   "source": [
    "from plotnine import *"
   ]
  },
  {
   "cell_type": "code",
   "execution_count": 183,
   "metadata": {},
   "outputs": [
    {
     "data": {
      "text/plain": [
       "(array([  16.,    2.,   18.,  156.,    0.,    3.,    1.,    0.,    0.,    1.]),\n",
       " array([ 39.142 ,  44.6463,  50.1506,  55.6549,  61.1592,  66.6635,\n",
       "         72.1678,  77.6721,  83.1764,  88.6807,  94.185 ]),\n",
       " <a list of 10 Patch objects>)"
      ]
     },
     "execution_count": 183,
     "metadata": {},
     "output_type": "execute_result"
    },
    {
     "data": {
      "image/png": "[encoded data removed]",
      "text/plain": [
       "<matplotlib.figure.Figure at 0x7f5b2305f080>"
      ]
     },
     "metadata": {},
     "output_type": "display_data"
    }
   ],
   "source": [
    "import matplotlib.pyplot as plt\n",
    "%matplotlib inline\n",
    "\n",
    "plt.hist(df_largest_care[df_largest_care.slug == 'WSJ'].fontsize)"
   ]
  },
  {
   "cell_type": "code",
   "execution_count": 199,
   "metadata": {
    "collapsed": true
   },
   "outputs": [],
   "source": [
    "df_largest_care.to_csv('~/data/fontsizes.csv', index=False)"
   ]
  },
  {
   "cell_type": "code",
   "execution_count": null,
   "metadata": {
    "collapsed": true
   },
   "outputs": [],
   "source": [
    "newspapers.to_csv('~/data/newspapers.csv', index=False)"
   ]
  },
  {
   "cell_type": "code",
   "execution_count": 208,
   "metadata": {
    "scrolled": false
   },
   "outputs": [
    {
     "name": "stdout",
     "output_type": "stream",
     "text": [
      "The Wall Street Journal\n",
      "#1: ‘It Was Just a Kill Box’ — Oct. 3 — 72.30pt\n",
      "#2: Terror Strikes Barcelona — Aug. 18 — 67.36pt\n",
      "#3: Terror Rampage in New York — Nov. 1 — 67.36pt\n",
      "#4: Rain, Floods Deluge Texas — Aug. 28 — 67.36pt\n",
      "#5: Battle Lines Drawn on Health Care — Jun. 23 — 56.15pt\n",
      "#6: Trump Threatens to End Iran Deal — Oct. 14 — 56.15pt\n",
      "#7: Hiring Growth Powers Economy — Dec. 9 — 56.15pt\n",
      "#8: Senate Passes Budget Plan — Oct. 20 — 56.15pt\n",
      "#9: Franken Bows to Pressure — Dec. 8 — 56.15pt\n",
      "#10: Bankers Uneasy on Inflation — Oct. 16 — 56.15pt\n",
      "#11: ‘Trump Trade’ Rebounds — Sep. 30 — 56.15pt\n",
      "#12: Bipartisan Health Bill Gains Steam — Oct. 18 — 56.15pt\n",
      "#13: Jerusalem Move Stokes Tensions — Dec. 7 — 56.15pt\n",
      "#14: Trump Stresses GOP Unity — Oct. 17 — 56.15pt\n",
      "#15: Dow Races Through 23000 — Oct. 19 — 56.15pt\n",
      "#16: Firms Press for Tax Breaks — Dec. 5 — 56.15pt\n",
      "#17: Kabul Bomb Sows Carnage — Jun. 1 — 56.15pt\n",
      "#18: Firebrand Wins in Alabama — Sep. 27 — 56.15pt\n",
      "#19: P&G Claims Win, but Peltz Presses On — Oct. 11 — 56.15pt\n",
      "#20: Rift Widens Among Republicans — Oct. 25 — 56.15pt\n",
      "\n",
      "USA Today\n",
      "#1: CATASTROPHE — Aug. 28 — 128.94pt\n",
      "#2: 09.20.17 THE WALL — Sep. 20 — 127.71pt\n",
      "#3: ‘A COWARDLY ACT’ — Nov. 1 — 109.48pt\n",
      "#4: ‘AN ACT OF PURE EVIL’ — Oct. 3 — 104.64pt\n",
      "#5: Gunman kills 26 at church service — Nov. 6 — 88.06pt\n",
      "#6: HARVEY COULD DRIVE 30,000 TO SHELTERS — Aug. 29 — 81.61pt\n",
      "#7: Agony builds as water rises — Aug. 30 — 81.61pt\n",
      "#8: TRUMP SAYS IT PLAINLY: ‘WE’RE GETTING OUT’ — Jun. 2 — 79.38pt\n",
      "#9: Transgender troops in limbo — Jul. 27 — 78.26pt\n",
      "#10: Nowhere to hide — Sep. 11 — 78.26pt\n",
      "#11: 32M MORE COULD BE UNINSURED — Jul. 20 — 76.02pt\n",
      "#12: Obamacare fail splinters GOP — Jul. 19 — 76.02pt\n",
      "#13: SMUGGLING PERSISTS DESPITE LEGALIZATION — Jul. 31 — 74.91pt\n",
      "#14: CAPITOL INTRIGUE — Aug. 16 — 73.79pt\n",
      "#15: Demands drain Secret Service — Aug. 21 — 73.79pt\n",
      "#16: Trump reverses Afghan stance — Aug. 22 — 71.55pt\n",
      "#17: Homeowners felt safe to forgo ﬂood insurance — Sep. 1 — 71.55pt\n",
      "#18: Safety issues plague hospital — Sep. 14 — 71.55pt\n",
      "#19: POLL: ONLY 12% SUPPORT GOP — Jun. 29 — 70.43pt\n",
      "#20: Rain ceases, misery remains — Aug. 31 — 70.00pt\n",
      "\n",
      "Los Angeles Times\n",
      "#1: THIS TEAM! — Oct. 20 — 168.56pt\n",
      "#2: ‘Like a blowtorch’ — Oct. 11 — 109.99pt\n",
      "#3: A CITY PUMMELED — Aug. 28 — 106.40pt\n",
      "#4: MEXICO JOLTED BY A DEADLY 7.1 QUAKE — Sep. 20 — 104.01pt\n",
      "#5: MAYHEM IN VEGAS: ‘LIKE A WAR ZONE’ — Oct. 3 — 100.43pt\n",
      "#6: Santa Anas subside, but not fires’ threat — Dec. 9 — 98.04pt\n",
      "#7: ‘It’s just too hot’ — Jun. 21 — 98.03pt\n",
      "#8: Republican tax plan headed to president — Dec. 20 — 98.03pt\n",
      "#9: Disney’s power play — Dec. 15 — 98.03pt\n",
      "#10: TERROR IN LONDON — Jun. 4 — 95.40pt\n",
      "#11: A war of fiery words — Aug. 10 — 94.69pt\n",
      "#12: Santa Anas whip up destructive wildfires — Dec. 6 — 94.45pt\n",
      "#13: Flames roar through wide swaths of land — Dec. 8 — 94.44pt\n",
      "#14: IRMA RACKS FLORIDA — Sep. 11 — 92.77pt\n",
      "#15: ‘DREAMERS’ CRUSHED — Sep. 6 — 92.29pt\n",
      "#16: Roused by threat, ‘Dreamers’ rally — Sep. 7 — 92.05pt\n",
      "#17: Mastermind of murderous cult — Nov. 20 — 90.86pt\n",
      "#18: Bel-Air homes burn as fire invades canyon — Dec. 7 — 89.66pt\n",
      "#19: LIVES CUT SHORT — Oct. 7 — 88.48pt\n",
      "#20: DODGERS DIG DEEP FOR WIN — Nov. 1 — 88.47pt\n",
      "\n",
      "San Jose Mercury News\n",
      "#1: M e T o o — Oct. 22 — 209.67pt\n",
      "#2: HOPE AMID THE ASHES — Nov. 12 — 125.42pt\n",
      "#3: TECH’S DIRTY LITTLE SECRET — Jul. 9 — 122.21pt\n",
      "#4: IRMA — ‘REALITY HAS SETTLED IN’ — Sep. 11 — 117.92pt\n",
      "#5: THE BIG REVEAL — Sep. 10 — 117.92pt\n",
      "#6: TOTALLY COOL — Aug. 22 — 114.70pt\n",
      "#7: FLAMES THREATEN NEW TOWNS; DEATHS RISE — Oct. 12 — 113.63pt\n",
      "#8: CONTAINMENT IN SIGHT — Oct. 16 — 108.27pt\n",
      "#9: FIREFIGHTERS SAY — Oct. 16 — 108.27pt\n",
      "#10: MASSACRE ON THE STRIPWHY DID VEGAS GUNMAN MOW DOWN INNOCENTS? — Oct. 3 — 107.20pt\n",
      "#11: WINE COUNTRY ABLAZE; THOUSANDS EVACUATED — Oct. 10 — 107.20pt\n",
      "#12: LAS VEGAS SHOOTINGWELL-PLANNED TRAGEDY — Oct. 4 — 107.20pt\n",
      "#13: ElegyforEdLee — Dec. 18 — 107.20pt\n",
      "#14: CREWS MAKE GAINS, BUT FLAMES STILL THREATEN — Oct. 15 — 107.20pt\n",
      "#15: FLAMES STILL RAGING; WINE INDUSTRY HIT HARD — Oct. 11 — 105.06pt\n",
      "#16: MUELLER CHARGES 3 — TRUMP FUMES — Oct. 31 — 103.98pt\n",
      "#17: CALIFORNIA DREAM — Nov. 19 — 102.91pt\n",
      "#18: SEEKING THE — Nov. 19 — 102.91pt\n",
      "#19: SundayVolume 167, issue 41 First win for the resistance — Jul. 30 — 102.91pt\n",
      "#20: BLUE WAVE?RESISTING TRUMP — Nov. 9 — 102.91pt\n",
      "\n",
      "New York Daily News\n",
      "#1: ALL EVEN — Oct. 10 — 329.54pt\n",
      "#2: POISON BILL — Nov. 19 — 303.97pt\n",
      "#3: pure joy — Oct. 12 — 301.81pt\n",
      "#4: SPOrtSHIM AGAIN — Nov. 8 — 297.68pt\n",
      "#5: gone girl — Nov. 9 — 294.65pt\n",
      "#6: BURN IN HELL — Nov. 20 — 292.10pt\n",
      "#7: sick mind — Sep. 22 — 290.02pt\n",
      "#8: one to go! — Oct. 19 — 287.91pt\n",
      "#9: cluck kent — Oct. 28 — 281.41pt\n",
      "#10: ART STEAL — Dec. 20 — 274.90pt\n",
      "#11: REAL VLAD HOMBRE — Jul. 31 — 270.92pt\n",
      "#12: FLOOD OF FEARS — Aug. 27 — 269.85pt\n",
      "#13: BLOOD MONEY — Jun. 23 — 269.58pt\n",
      "#14: STANTON BABY! — Dec. 10 — 266.28pt\n",
      "#15: gun nuts! — Dec. 7 — 265.98pt\n",
      "#16: SLOWBRO! — Oct. 15 — 265.82pt\n",
      "#17: Head-on crasH — Dec. 16 — 263.64pt\n",
      "#18: trashedPAGE — Jul. 18 — 262.07pt\n",
      "#19: WALL NUT — Sep. 15 — 260.16pt\n",
      "#20: dirty — Sep. 6 — 259.16pt\n",
      "\n",
      "The Washington Post\n",
      "#1: 59 die in Las Vegas attack — Oct. 3 — 104.85pt\n",
      "#2: Irma strafes Florida coast — Sep. 11 — 75.72pt\n",
      "#3: 3 Trump campaign o∞cials charged — Oct. 31 — 74.56pt\n",
      "#4: Grave dangers in Harvey’s wake — Sep. 1 — 69.90pt\n",
      "#5: Jones wins in Democratic upset — Dec. 13 — 69.90pt\n",
      "#6: Attackers strike London — Jun. 4 — 69.90pt\n",
      "#7: Terror strikes Barcelona — Aug. 18 — 69.90pt\n",
      "#8: Victory for Northam in Va. — Nov. 8 — 69.90pt\n",
      "#9: NYC truck attack kills 8 — Nov. 1 — 69.90pt\n",
      "#10: Ivanka Inc. — Jul. 16 — 69.90pt\n",
      "#11: In Irma’s wake, pain and relief — Sep. 12 — 69.90pt\n",
      "#12: Sweeping tax overhaul clears Congress — Dec. 21 — 69.90pt\n",
      "#13: Trump makes deﬁant U.N. debut — Sep. 20 — 67.57pt\n",
      "#14: Abrupt chain reaction for Trump — Jul. 22 — 66.99pt\n",
      "#15: Floridians scramble as Irma nears — Sep. 10 — 64.08pt\n",
      "#16: Catastrophic ﬂooding in Houston — Aug. 28 — 64.08pt\n",
      "#17: Charlottesville protest takes a deadly turn — Aug. 13 — 64.08pt\n",
      "#18: Defections may end health overhaul — Jul. 18 — 62.91pt\n",
      "#19: GOP unveils sweeping tax overhaul — Nov. 3 — 62.91pt\n",
      "#20: Senate begins debate on health bill — Jul. 26 — 61.74pt\n",
      "\n",
      "Chicago Sun Times\n",
      "#1: THAT’S WON! — Oct. 16 — 306.84pt\n",
      "#2: FAKE — Aug. 16 — 299.68pt\n",
      "#3: ‘LOVE’ — Jul. 12 — 258.35pt\n",
      "#4: OT BLUES — Oct. 4 — 257.50pt\n",
      "#5: SODA FLOP — Oct. 7 — 257.50pt\n",
      "#6: UNSAFE ATHOME — Sep. 2 — 251.98pt\n",
      "#7: COLD — Jun. 2 — 248.75pt\n",
      "#8: POPCULTURE — Jul. 24 — 246.12pt\n",
      "#9: HE’S BAAACK — Nov. 21 — 241.35pt\n",
      "#10: QUINNIN! — Oct. 28 — 241.34pt\n",
      "#11: MONEY TALKS — Jul. 2 — 240.48pt\n",
      "#12: BULLS KICK BUCKETS PAGES 10-11 — Jun. 23 — 235.23pt\n",
      "#13: TWEET-LE DONE — Jul. 18 — 234.67pt\n",
      "#14: PRINTING PRINTING PRESS PRESS — Aug. 31 — 234.07pt\n",
      "#15: COFFEE&CRIME — Nov. 4 — 231.44pt\n",
      "#16: ALT-OUT! — Aug. 19 — 230.99pt\n",
      "#17: BAD — Nov. 7 — 230.51pt\n",
      "#18: DECISIONDAY FORDREAMERS — Sep. 5 — 228.99pt\n",
      "#19: SHARP RIGHT TURN — Jul. 11 — 222.09pt\n",
      "#20: FORREST FIRE — Dec. 7 — 218.82pt\n",
      "\n",
      "The Denver Post\n",
      "#1: eclipse — Aug. 21 — 141.73pt\n",
      "#2: “ACT OF EVIL” — Nov. 6 — 124.52pt\n",
      "#3: Grief, confusion — Oct. 3 — 118.52pt\n",
      "#4: At a net loss — Sep. 10 — 116.60pt\n",
      "#5: Oil in Colorado’s political machine — Jul. 16 — 109.80pt\n",
      "#6: GAME ON — Oct. 21 — 107.14pt\n",
      "#7: Deal lands at $1.8B — Jul. 20 — 106.41pt\n",
      "#8: DESERT DRAMA — Jun. 25 — 104.90pt\n",
      "#9: Immediately in peril — Jun. 23 — 99.62pt\n",
      "#10: Out of the deal — Jun. 2 — 99.62pt\n",
      "#11: Many students left at the curb — Dec. 18 — 97.42pt\n",
      "#12: Gun laws loom large — Oct. 22 — 97.35pt\n",
      "#13: On a collision course — Aug. 6 — 93.96pt\n",
      "#14: Obamacare in tax bill — Nov. 15 — 91.69pt\n",
      "#15: Cat 4 storm hits Texas — Aug. 26 — 90.56pt\n",
      "#16: Premiums could spike — Jul. 15 — 90.56pt\n",
      "#17: HAPPY FEAT — Oct. 12 — 90.40pt\n",
      "#18: China scolds N. Korea — Aug. 7 — 89.43pt\n",
      "#19: Parched on the edge of a record — Dec. 14 — 89.28pt\n",
      "#20: Senate postpones vote — Jun. 28 — 88.30pt\n",
      "\n",
      "Chicago Tribune\n",
      "#1: ‘ACTOFPUREEVIL’ — Oct. 3 — 125.40pt\n",
      "#2: Out at home — Oct. 20 — 117.60pt\n",
      "#3: UNSCRIPTED — Aug. 16 — 110.40pt\n",
      "#4: TRUMP — Aug. 16 — 110.40pt\n",
      "#5: Trump’s victory lap — Dec. 21 — 108.90pt\n",
      "#6: BRYZZNESS IS BOOMING — Oct. 7 — 102.30pt\n",
      "#7: Florida dealt a blow — Sep. 11 — 97.20pt\n",
      "#8: FUROR PROMPTS REBUKE — Aug. 15 — 96.80pt\n",
      "#9: TRUMP ENDS DACA — Sep. 6 — 94.80pt\n",
      "#10: Down to the wire — Oct. 13 — 94.80pt\n",
      "#11: 736-DAY BUDGET IMPASSE ENDS — Jul. 7 — 91.20pt\n"
     ]
    },
    {
     "name": "stdout",
     "output_type": "stream",
     "text": [
      "#12: Showing a pulse — Oct. 19 — 90.00pt\n",
      "#13: FALL ARTS PR Abc PREVIEW — Sep. 3 — 90.00pt\n",
      "#14: 26 killed in Texas church — Nov. 6 — 89.10pt\n",
      "#15: Trump: U.S. out of pact — Jun. 2 — 89.10pt\n",
      "#16: Easy to queasy — Oct. 12 — 88.80pt\n",
      "#17: THE SHOOTER’ — Oct. 4 — 88.00pt\n",
      "#18: ‘WE NEED TO STOP — Oct. 4 — 88.00pt\n",
      "#19: ‘COWARDLY ACT OF TERROR’ KILLS 8 — Nov. 1 — 88.00pt\n",
      "#20: UP AGAINST — Oct. 18 — 87.60pt\n",
      "\n",
      "The Dallas Morning News\n",
      "#1: ‘Horriﬁ c tragedy’ — Nov. 6 — 134.74pt\n",
      "#2: Moments in history — Jul. 7 — 129.98pt\n",
      "#3: Only the start — Aug. 27 — 116.99pt\n",
      "#4: Devastating deluge — Aug. 28 — 113.46pt\n",
      "#5: Starting to dig out — Sep. 1 — 113.46pt\n",
      "#6: Helping hands — Aug. 29 — 113.46pt\n",
      "#7: American carnage — Oct. 3 — 108.73pt\n",
      "#8: Harvey slams ashore — Aug. 26 — 107.52pt\n",
      "#9: 3 dead after racial clashes in Virginia — Aug. 13 — 106.40pt\n",
      "#10: Irma jukes, jabs — Sep. 10 — 106.36pt\n",
      "#11: Menacing ﬂ oodwaters — Sep. 2 — 104.01pt\n",
      "#12: MADE WHOLE — Jul. 16 — 103.28pt\n",
      "#13: Faith beyond walls — Sep. 4 — 102.83pt\n",
      "#14: Frustrations and fears — Sep. 3 — 102.83pt\n",
      "#15: Home at last — Jun. 21 — 102.11pt\n",
      "#16: ‘No smoking gun’ — Oct. 27 — 101.62pt\n",
      "#17: Purpose and passion — Dec. 24 — 99.76pt\n",
      "#18: Battling grief through God — Nov. 12 — 99.76pt\n",
      "#19: Anybody HOME? — Nov. 16 — 98.61pt\n",
      "#20: Bravos for bravery — Jul. 29 — 98.58pt\n"
     ]
    }
   ],
   "source": [
    "largest_font_headlines(df[(df.slug == 'WSJ') & (df.date != datetime(2017, 12, 18))], 'The Wall Street Journal')\n",
    "\n",
    "print()\n",
    "\n",
    "largest_font_headlines(df[df.slug == 'USAT'], 'USA Today')\n",
    "\n",
    "print()\n",
    "\n",
    "largest_font_headlines(df[df.slug == 'CA_LAT'], 'Los Angeles Times')\n",
    "\n",
    "print()\n",
    "\n",
    "largest_font_headlines(df[df.slug == 'CA_MN'], 'San Jose Mercury News')\n",
    "\n",
    "print()\n",
    "\n",
    "largest_font_headlines(df[df.slug == 'NY_DN'], 'New York Daily News')\n",
    "\n",
    "print()\n",
    "\n",
    "largest_font_headlines(df[df.slug == 'DC_WP'], 'The Washington Post')\n",
    "\n",
    "print()\n",
    "\n",
    "largest_font_headlines(df[df.slug == 'IL_CST'], 'Chicago Sun Times')\n",
    "\n",
    "print()\n",
    "\n",
    "largest_font_headlines(df[df.slug == 'CO_DP'], 'The Denver Post')\n",
    "\n",
    "print()\n",
    "\n",
    "largest_font_headlines(df[df.slug == 'IL_CT'], 'Chicago Tribune')\n",
    "\n",
    "print()\n",
    "\n",
    "largest_font_headlines(df[df.slug == 'TX_DMN'], 'The Dallas Morning News')"
   ]
  },
  {
   "cell_type": "code",
   "execution_count": 163,
   "metadata": {},
   "outputs": [
    {
     "data": {
      "text/html": [
       "<div>\n",
       "<table border=\"1\" class=\"dataframe\">\n",
       "  <thead>\n",
       "    <tr style=\"text-align: right;\">\n",
       "      <th></th>\n",
       "      <th>city</th>\n",
       "      <th>country</th>\n",
       "      <th>latitude</th>\n",
       "      <th>longitude</th>\n",
       "      <th>slug</th>\n",
       "      <th>state</th>\n",
       "      <th>title</th>\n",
       "      <th>website</th>\n",
       "    </tr>\n",
       "  </thead>\n",
       "  <tbody>\n",
       "    <tr>\n",
       "      <th>496</th>\n",
       "      <td>Dallas</td>\n",
       "      <td>USA</td>\n",
       "      <td>32.776001</td>\n",
       "      <td>-96.806183</td>\n",
       "      <td>TX_DMN</td>\n",
       "      <td>TX</td>\n",
       "      <td>The Dallas Morning News</td>\n",
       "      <td>http://www.dallasnews.com</td>\n",
       "    </tr>\n",
       "  </tbody>\n",
       "</table>\n",
       "</div>"
      ],
      "text/plain": [
       "       city country   latitude  longitude    slug state  \\\n",
       "496  Dallas     USA  32.776001 -96.806183  TX_DMN    TX   \n",
       "\n",
       "                       title                    website  \n",
       "496  The Dallas Morning News  http://www.dallasnews.com  "
      ]
     },
     "execution_count": 163,
     "metadata": {},
     "output_type": "execute_result"
    }
   ],
   "source": [
    "newspapers[newspapers.city.str.contains('Dallas')]"
   ]
  }
 ],
 "metadata": {
  "kernelspec": {
   "display_name": "Python 3",
   "language": "python",
   "name": "python3"
  },
  "language_info": {
   "codemirror_mode": {
    "name": "ipython",
    "version": 3
   },
   "file_extension": ".py",
   "mimetype": "text/x-python",
   "name": "python",
   "nbconvert_exporter": "python",
   "pygments_lexer": "ipython3",
   "version": "3.6.2"
  }
 },
 "nbformat": 4,
 "nbformat_minor": 2
}
