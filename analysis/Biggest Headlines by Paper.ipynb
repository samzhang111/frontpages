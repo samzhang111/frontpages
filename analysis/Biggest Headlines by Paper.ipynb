{
 "cells": [
  {
   "cell_type": "markdown",
   "metadata": {},
   "source": [
    "# Biggest headlines by paper\n",
    "\n",
    "This is a notebook that looks at the biggest headlines for newspapers over the last half-year, mainly for ten newspapers we particularly care about. It also looks at some interesting aspects of the largest headlines across all the papers."
   ]
  },
  {
   "cell_type": "code",
   "execution_count": 159,
   "metadata": {
    "collapsed": true
   },
   "outputs": [],
   "source": [
    "from jupyter_cms.loader import load_notebook\n",
    "\n",
    "eda = load_notebook('./data_exploration.ipynb')\n",
    "\n",
    "df, newspapers = eda.load_data()"
   ]
  },
  {
   "cell_type": "markdown",
   "metadata": {},
   "source": [
    "## Major newspaper headlines\n",
    "\n",
    "These slugs were chosen from the Wikipedia page of widely circulated newspapers in the United States: https://en.wikipedia.org/wiki/List_of_newspapers_in_the_United_States#By_circulation. Unfortunately it seems like that list was using 2013 data, but I recognize enough of these papers as major that it's a close-enough approximation.\n",
    "\n",
    "Also we have to leave the NYT and New York Post out, unfortunately, since pdfminer extracted their characters without being able to group them into lines and paragraphs. If taking character-level data and massaging it into paragraphs sounds like a fun task for you, please drop a Github issue or otherwise get in touch :)"
   ]
  },
  {
   "cell_type": "code",
   "execution_count": 177,
   "metadata": {
    "collapsed": true
   },
   "outputs": [],
   "source": [
    "slugs_of_interest = [\n",
    "    'WSJ',\n",
    "    'USAT',\n",
    "    'CA_LAT',\n",
    "    'CA_MN',\n",
    "    'NY_DN',\n",
    "    'DC_WP',\n",
    "    'IL_CST',\n",
    "    'CO_DP',\n",
    "    'IL_CT',\n",
    "    'TX_DMN'\n",
    "]"
   ]
  },
  {
   "cell_type": "code",
   "execution_count": 160,
   "metadata": {},
   "outputs": [
    {
     "data": {
      "text/html": [
       "<div>\n",
       "<table border=\"1\" class=\"dataframe\">\n",
       "  <thead>\n",
       "    <tr style=\"text-align: right;\">\n",
       "      <th></th>\n",
       "      <th>text</th>\n",
       "      <th>fontface</th>\n",
       "      <th>fontsize</th>\n",
       "      <th>bbox_left</th>\n",
       "      <th>bbox_bottom</th>\n",
       "      <th>bbox_right</th>\n",
       "      <th>bbox_top</th>\n",
       "      <th>bbox_area</th>\n",
       "      <th>avg_character_area</th>\n",
       "      <th>percent_of_page</th>\n",
       "      <th>page</th>\n",
       "      <th>page_width</th>\n",
       "      <th>page_height</th>\n",
       "      <th>page_area</th>\n",
       "      <th>date</th>\n",
       "      <th>day_of_week</th>\n",
       "      <th>weekend</th>\n",
       "      <th>slug</th>\n",
       "      <th>id</th>\n",
       "      <th>page_height_round</th>\n",
       "      <th>page_width_round</th>\n",
       "      <th>page_width_round_10</th>\n",
       "      <th>page_height_round_10</th>\n",
       "      <th>aspect_ratio</th>\n",
       "    </tr>\n",
       "  </thead>\n",
       "  <tbody>\n",
       "    <tr>\n",
       "      <th>948</th>\n",
       "      <td>GET YOUR TICKETS!</td>\n",
       "      <td>SalvoSansExtraCond-Black</td>\n",
       "      <td>28.665</td>\n",
       "      <td>197.963</td>\n",
       "      <td>1413.262</td>\n",
       "      <td>352.508</td>\n",
       "      <td>1441.927</td>\n",
       "      <td>4430.032425</td>\n",
       "      <td>262.598379</td>\n",
       "      <td>0.004117</td>\n",
       "      <td>1</td>\n",
       "      <td>729.0</td>\n",
       "      <td>1476.0</td>\n",
       "      <td>1076004.0</td>\n",
       "      <td>2017-12-04</td>\n",
       "      <td>0</td>\n",
       "      <td>False</td>\n",
       "      <td>AL_TN</td>\n",
       "      <td>949</td>\n",
       "      <td>1476</td>\n",
       "      <td>729</td>\n",
       "      <td>720</td>\n",
       "      <td>1470</td>\n",
       "      <td>0.5</td>\n",
       "    </tr>\n",
       "    <tr>\n",
       "      <th>949</th>\n",
       "      <td>Styx is returning to the \\nTuscaloosa Amphithe...</td>\n",
       "      <td>SalvoSans-Bold</td>\n",
       "      <td>14.250</td>\n",
       "      <td>197.963</td>\n",
       "      <td>1352.900</td>\n",
       "      <td>338.523</td>\n",
       "      <td>1411.150</td>\n",
       "      <td>8187.620000</td>\n",
       "      <td>76.041081</td>\n",
       "      <td>0.007609</td>\n",
       "      <td>1</td>\n",
       "      <td>729.0</td>\n",
       "      <td>1476.0</td>\n",
       "      <td>1076004.0</td>\n",
       "      <td>2017-12-04</td>\n",
       "      <td>0</td>\n",
       "      <td>False</td>\n",
       "      <td>AL_TN</td>\n",
       "      <td>950</td>\n",
       "      <td>1476</td>\n",
       "      <td>729</td>\n",
       "      <td>720</td>\n",
       "      <td>1470</td>\n",
       "      <td>0.5</td>\n",
       "    </tr>\n",
       "  </tbody>\n",
       "</table>\n",
       "</div>"
      ],
      "text/plain": [
       "                                                  text  \\\n",
       "948                                  GET YOUR TICKETS!   \n",
       "949  Styx is returning to the \\nTuscaloosa Amphithe...   \n",
       "\n",
       "                     fontface  fontsize  bbox_left  bbox_bottom  bbox_right  \\\n",
       "948  SalvoSansExtraCond-Black    28.665    197.963     1413.262     352.508   \n",
       "949            SalvoSans-Bold    14.250    197.963     1352.900     338.523   \n",
       "\n",
       "     bbox_top    bbox_area  avg_character_area  percent_of_page page  \\\n",
       "948  1441.927  4430.032425          262.598379         0.004117    1   \n",
       "949  1411.150  8187.620000           76.041081         0.007609    1   \n",
       "\n",
       "     page_width  page_height  page_area       date  day_of_week weekend  \\\n",
       "948       729.0       1476.0  1076004.0 2017-12-04            0   False   \n",
       "949       729.0       1476.0  1076004.0 2017-12-04            0   False   \n",
       "\n",
       "      slug   id  page_height_round  page_width_round  page_width_round_10  \\\n",
       "948  AL_TN  949               1476               729                  720   \n",
       "949  AL_TN  950               1476               729                  720   \n",
       "\n",
       "     page_height_round_10  aspect_ratio  \n",
       "948                  1470           0.5  \n",
       "949                  1470           0.5  "
      ]
     },
     "execution_count": 160,
     "metadata": {},
     "output_type": "execute_result"
    }
   ],
   "source": [
    "import pandas as pd\n",
    "from datetime import datetime\n",
    "\n",
    "pd.set_option('display.max_columns', 100)\n",
    "\n",
    "df.head(2)"
   ]
  },
  {
   "cell_type": "code",
   "execution_count": 165,
   "metadata": {
    "collapsed": true
   },
   "outputs": [],
   "source": [
    "df['month'] = df['date'].apply(lambda x: x.month)"
   ]
  },
  {
   "cell_type": "code",
   "execution_count": 226,
   "metadata": {
    "collapsed": true
   },
   "outputs": [],
   "source": [
    "def print_row(i, row):\n",
    "    print(\"#{i}: {title} — {date:%b. %-d} — {fontsize:.2f}pt\".format(\n",
    "        i=i + 1,\n",
    "        title=\" \".join(row.text.split()),\n",
    "        date=row.date,\n",
    "        fontsize=row.fontsize))\n",
    "    \n",
    "def largest_font_headlines(npdf, paper):\n",
    "    npdf = npdf[(npdf.bbox_top > npdf.page_height / 2) & (npdf.month >= 6)]\n",
    "    top = npdf.sort_values(by='fontsize', ascending=False).head(10)\n",
    "    print(paper)\n",
    "    for i, (_, row) in enumerate(top.iterrows()):\n",
    "        print_row(i, row)\n"
   ]
  },
  {
   "cell_type": "code",
   "execution_count": 227,
   "metadata": {
    "scrolled": false
   },
   "outputs": [
    {
     "name": "stdout",
     "output_type": "stream",
     "text": [
      "The Wall Street Journal\n",
      "#1: ‘It Was Just a Kill Box’ — Oct. 3 — 72.30pt\n",
      "#2: Terror Strikes Barcelona — Aug. 18 — 67.36pt\n",
      "#3: Terror Rampage in New York — Nov. 1 — 67.36pt\n",
      "#4: Rain, Floods Deluge Texas — Aug. 28 — 67.36pt\n",
      "#5: Battle Lines Drawn on Health Care — Jun. 23 — 56.15pt\n",
      "#6: Trump Threatens to End Iran Deal — Oct. 14 — 56.15pt\n",
      "#7: Hiring Growth Powers Economy — Dec. 9 — 56.15pt\n",
      "#8: Senate Passes Budget Plan — Oct. 20 — 56.15pt\n",
      "#9: Franken Bows to Pressure — Dec. 8 — 56.15pt\n",
      "#10: Bankers Uneasy on Inflation — Oct. 16 — 56.15pt\n",
      "\n",
      "USA Today\n",
      "#1: CATASTROPHE — Aug. 28 — 128.94pt\n",
      "#2: 09.20.17 THE WALL — Sep. 20 — 127.71pt\n",
      "#3: ‘A COWARDLY ACT’ — Nov. 1 — 109.48pt\n",
      "#4: ‘AN ACT OF PURE EVIL’ — Oct. 3 — 104.64pt\n",
      "#5: Gunman kills 26 at church service — Nov. 6 — 88.06pt\n",
      "#6: HARVEY COULD DRIVE 30,000 TO SHELTERS — Aug. 29 — 81.61pt\n",
      "#7: Agony builds as water rises — Aug. 30 — 81.61pt\n",
      "#8: TRUMP SAYS IT PLAINLY: ‘WE’RE GETTING OUT’ — Jun. 2 — 79.38pt\n",
      "#9: Transgender troops in limbo — Jul. 27 — 78.26pt\n",
      "#10: Nowhere to hide — Sep. 11 — 78.26pt\n",
      "\n",
      "Los Angeles Times\n",
      "#1: THIS TEAM! — Oct. 20 — 168.56pt\n",
      "#2: ‘Like a blowtorch’ — Oct. 11 — 109.99pt\n",
      "#3: A CITY PUMMELED — Aug. 28 — 106.40pt\n",
      "#4: MEXICO JOLTED BY A DEADLY 7.1 QUAKE — Sep. 20 — 104.01pt\n",
      "#5: MAYHEM IN VEGAS: ‘LIKE A WAR ZONE’ — Oct. 3 — 100.43pt\n",
      "#6: Santa Anas subside, but not fires’ threat — Dec. 9 — 98.04pt\n",
      "#7: ‘It’s just too hot’ — Jun. 21 — 98.03pt\n",
      "#8: Republican tax plan headed to president — Dec. 20 — 98.03pt\n",
      "#9: Disney’s power play — Dec. 15 — 98.03pt\n",
      "#10: TERROR IN LONDON — Jun. 4 — 95.40pt\n",
      "\n",
      "San Jose Mercury News\n",
      "#1: M e T o o — Oct. 22 — 209.67pt\n",
      "#2: HOPE AMID THE ASHES — Nov. 12 — 125.42pt\n",
      "#3: TECH’S DIRTY LITTLE SECRET — Jul. 9 — 122.21pt\n",
      "#4: IRMA — ‘REALITY HAS SETTLED IN’ — Sep. 11 — 117.92pt\n",
      "#5: THE BIG REVEAL — Sep. 10 — 117.92pt\n",
      "#6: TOTALLY COOL — Aug. 22 — 114.70pt\n",
      "#7: FLAMES THREATEN NEW TOWNS; DEATHS RISE — Oct. 12 — 113.63pt\n",
      "#8: CONTAINMENT IN SIGHT — Oct. 16 — 108.27pt\n",
      "#9: FIREFIGHTERS SAY — Oct. 16 — 108.27pt\n",
      "#10: MASSACRE ON THE STRIPWHY DID VEGAS GUNMAN MOW DOWN INNOCENTS? — Oct. 3 — 107.20pt\n",
      "\n",
      "New York Daily News\n",
      "#1: ALL EVEN — Oct. 10 — 329.54pt\n",
      "#2: POISON BILL — Nov. 19 — 303.97pt\n",
      "#3: pure joy — Oct. 12 — 301.81pt\n",
      "#4: SPOrtSHIM AGAIN — Nov. 8 — 297.68pt\n",
      "#5: gone girl — Nov. 9 — 294.65pt\n",
      "#6: BURN IN HELL — Nov. 20 — 292.10pt\n",
      "#7: sick mind — Sep. 22 — 290.02pt\n",
      "#8: one to go! — Oct. 19 — 287.91pt\n",
      "#9: cluck kent — Oct. 28 — 281.41pt\n",
      "#10: ART STEAL — Dec. 20 — 274.90pt\n",
      "\n",
      "The Washington Post\n",
      "#1: 59 die in Las Vegas attack — Oct. 3 — 104.85pt\n",
      "#2: Irma strafes Florida coast — Sep. 11 — 75.72pt\n",
      "#3: 3 Trump campaign o∞cials charged — Oct. 31 — 74.56pt\n",
      "#4: Grave dangers in Harvey’s wake — Sep. 1 — 69.90pt\n",
      "#5: Jones wins in Democratic upset — Dec. 13 — 69.90pt\n",
      "#6: Attackers strike London — Jun. 4 — 69.90pt\n",
      "#7: Terror strikes Barcelona — Aug. 18 — 69.90pt\n",
      "#8: Victory for Northam in Va. — Nov. 8 — 69.90pt\n",
      "#9: NYC truck attack kills 8 — Nov. 1 — 69.90pt\n",
      "#10: Ivanka Inc. — Jul. 16 — 69.90pt\n",
      "\n",
      "Chicago Sun Times\n",
      "#1: THAT’S WON! — Oct. 16 — 306.84pt\n",
      "#2: FAKE — Aug. 16 — 299.68pt\n",
      "#3: ‘LOVE’ — Jul. 12 — 258.35pt\n",
      "#4: OT BLUES — Oct. 4 — 257.50pt\n",
      "#5: SODA FLOP — Oct. 7 — 257.50pt\n",
      "#6: UNSAFE ATHOME — Sep. 2 — 251.98pt\n",
      "#7: COLD — Jun. 2 — 248.75pt\n",
      "#8: POPCULTURE — Jul. 24 — 246.12pt\n",
      "#9: HE’S BAAACK — Nov. 21 — 241.35pt\n",
      "#10: QUINNIN! — Oct. 28 — 241.34pt\n",
      "\n",
      "The Denver Post\n",
      "#1: eclipse — Aug. 21 — 141.73pt\n",
      "#2: “ACT OF EVIL” — Nov. 6 — 124.52pt\n",
      "#3: Grief, confusion — Oct. 3 — 118.52pt\n",
      "#4: At a net loss — Sep. 10 — 116.60pt\n",
      "#5: Oil in Colorado’s political machine — Jul. 16 — 109.80pt\n",
      "#6: GAME ON — Oct. 21 — 107.14pt\n",
      "#7: Deal lands at $1.8B — Jul. 20 — 106.41pt\n",
      "#8: DESERT DRAMA — Jun. 25 — 104.90pt\n",
      "#9: Immediately in peril — Jun. 23 — 99.62pt\n",
      "#10: Out of the deal — Jun. 2 — 99.62pt\n",
      "\n",
      "Chicago Tribune\n",
      "#1: ‘ACTOFPUREEVIL’ — Oct. 3 — 125.40pt\n",
      "#2: Out at home — Oct. 20 — 117.60pt\n",
      "#3: UNSCRIPTED — Aug. 16 — 110.40pt\n",
      "#4: TRUMP — Aug. 16 — 110.40pt\n",
      "#5: Trump’s victory lap — Dec. 21 — 108.90pt\n",
      "#6: BRYZZNESS IS BOOMING — Oct. 7 — 102.30pt\n",
      "#7: Florida dealt a blow — Sep. 11 — 97.20pt\n",
      "#8: FUROR PROMPTS REBUKE — Aug. 15 — 96.80pt\n",
      "#9: TRUMP ENDS DACA — Sep. 6 — 94.80pt\n",
      "#10: Down to the wire — Oct. 13 — 94.80pt\n",
      "\n",
      "The Dallas Morning News\n",
      "#1: ‘Horriﬁ c tragedy’ — Nov. 6 — 134.74pt\n",
      "#2: Moments in history — Jul. 7 — 129.98pt\n",
      "#3: Only the start — Aug. 27 — 116.99pt\n",
      "#4: Devastating deluge — Aug. 28 — 113.46pt\n",
      "#5: Starting to dig out — Sep. 1 — 113.46pt\n",
      "#6: Helping hands — Aug. 29 — 113.46pt\n",
      "#7: American carnage — Oct. 3 — 108.73pt\n",
      "#8: Harvey slams ashore — Aug. 26 — 107.52pt\n",
      "#9: 3 dead after racial clashes in Virginia — Aug. 13 — 106.40pt\n",
      "#10: Irma jukes, jabs — Sep. 10 — 106.36pt\n"
     ]
    }
   ],
   "source": [
    "# Um, definitely should have a better place for doing this, but on Dec 18th the WSJ PDF I archived was actually\n",
    "# a different newspaper, somehow. I wonder if it's a Newseum error, but they don't keep their archives up beyond a day\n",
    "\n",
    "largest_font_headlines(df[(df.slug == 'WSJ') & (df.date != datetime(2017, 12, 18))], 'The Wall Street Journal')\n",
    "\n",
    "print()\n",
    "\n",
    "largest_font_headlines(df[df.slug == 'USAT'], 'USA Today')\n",
    "\n",
    "print()\n",
    "\n",
    "largest_font_headlines(df[df.slug == 'CA_LAT'], 'Los Angeles Times')\n",
    "\n",
    "print()\n",
    "\n",
    "largest_font_headlines(df[df.slug == 'CA_MN'], 'San Jose Mercury News')\n",
    "\n",
    "print()\n",
    "\n",
    "largest_font_headlines(df[df.slug == 'NY_DN'], 'New York Daily News')\n",
    "\n",
    "print()\n",
    "\n",
    "largest_font_headlines(df[df.slug == 'DC_WP'], 'The Washington Post')\n",
    "\n",
    "print()\n",
    "\n",
    "largest_font_headlines(df[df.slug == 'IL_CST'], 'Chicago Sun Times')\n",
    "\n",
    "print()\n",
    "\n",
    "largest_font_headlines(df[df.slug == 'CO_DP'], 'The Denver Post')\n",
    "\n",
    "print()\n",
    "\n",
    "largest_font_headlines(df[df.slug == 'IL_CT'], 'Chicago Tribune')\n",
    "\n",
    "print()\n",
    "\n",
    "largest_font_headlines(df[df.slug == 'TX_DMN'], 'The Dallas Morning News')"
   ]
  },
  {
   "cell_type": "markdown",
   "metadata": {},
   "source": [
    "## Other analyses!\n",
    "\n",
    "So what else can we learn from the top sized headlines on these journals?\n",
    "\n",
    "/ insert intermission where I switch into R and run ggplot to generate this graph: [link](https://sam.zhang.fyi/images/paper-fonts.png). Look at that graph if you haven't yet because it motivates some of the following.\n",
    "\n",
    "We can see a wide distribution of biggest-headlines-per-day (what I'll ignorantly call the \"splash\" headline, please let me know if you know of the actual newspaper jargon) for each major newspaper. On the right-hand side, the tabloids tend to be extremely generous with how they use fonts. Let's see if that holds up at large.\n",
    "\n",
    "As a refresher, here are some [common newspaper formats from Wikipedia](https://en.wikipedia.org/wiki/Newspaper_format):\n",
    "\n",
    "```\n",
    "\n",
    "    Diver's Dispatch 914.4 mm × 609.6 mm (36.00 in × 24.00 in) (1.5)\n",
    "    Broadsheet 749 mm × 597 mm (29.5 in × 23.5 in) (1.255)\n",
    "    Nordisch 570 mm × 400 mm (22 in × 16 in) (1.425)\n",
    "    Rhenish around 350 mm × 520 mm (14 in × 20 in) (1.486)\n",
    "    Swiss (Neue Zürcher Zeitung) 475 mm × 320 mm (18.7 in × 12.6 in) (1.484)\n",
    "    Berliner 470 mm × 315 mm (18.5 in × 12.4 in) (1.492)\n",
    "        The Guardian's printed area is 443 mm × 287 mm (17.4 in × 11.3 in).[2]\n",
    "    Tabloid 430 mm × 280 mm (17 in × 11 in) (1.536)\n",
    "\n",
    "```\n",
    "\n",
    "We'll mainly just look at the height here for simplicity's sake.\n",
    "\n",
    "Note these numbers will be slightly off since:\n",
    "- the PDFs contain different amounts of additional padding compared to the actual printed version\n",
    "- these numbers are in pixels, and depending on how the resolution of the newspaper is determined, could translate into different numbers in inches"
   ]
  },
  {
   "cell_type": "code",
   "execution_count": 250,
   "metadata": {},
   "outputs": [
    {
     "data": {
      "text/plain": [
       "<matplotlib.text.Text at 0x7f599b72ccc0>"
      ]
     },
     "execution_count": 250,
     "metadata": {},
     "output_type": "execute_result"
    },
    {
     "data": {
      "image/png": "[encoded data removed]",
      "text/plain": [
       "<matplotlib.figure.Figure at 0x7f59917c65c0>"
      ]
     },
     "metadata": {},
     "output_type": "display_data"
    }
   ],
   "source": [
    "%matplotlib inline\n",
    "import matplotlib.pyplot as plt\n",
    "import seaborn as sns\n",
    "\n",
    "sns.distplot(df.groupby(['slug']).page_height.first())\n",
    "plt.suptitle(\"Distribution of page heights (by pixels)\")"
   ]
  },
  {
   "cell_type": "markdown",
   "metadata": {},
   "source": [
    "So it looks like most of our newspapers are clustered around the 1600px height. But what is that in inches? Let's do a few known papers to check."
   ]
  },
  {
   "cell_type": "code",
   "execution_count": 245,
   "metadata": {},
   "outputs": [
    {
     "name": "stdout",
     "output_type": "stream",
     "text": [
      "Heights of known papers:\n",
      "\n",
      "Broadsheets:\n",
      "The Washington Post: 1709.05px\n",
      "The Wall Street Journal: 1567.8px\n",
      "\n",
      "Tabloids:\n",
      "The Chicago Sun Times: 720.0px\n",
      "The New York Daily News: 878.4px\n",
      "\n"
     ]
    }
   ],
   "source": [
    "print('''Heights of known papers:\n",
    "\n",
    "Broadsheets:\n",
    "The Washington Post: {}px\n",
    "The Wall Street Journal: {}px\n",
    "\n",
    "Tabloids:\n",
    "The Chicago Sun Times: {}px\n",
    "The New York Daily News: {}px\n",
    "'''.format(\n",
    "    df[df.slug == 'DC_WP'].page_height.mode().iloc[0],\n",
    "    df[df.slug == 'WSJ'].page_height.mode().iloc[0],\n",
    "    df[df.slug == 'IL_CST'].page_height.mode().iloc[0],\n",
    "    df[df.slug == 'NY_DN'].page_height.mode().iloc[0]\n",
    "))"
   ]
  },
  {
   "cell_type": "code",
   "execution_count": 244,
   "metadata": {},
   "outputs": [
    {
     "name": "stdout",
     "output_type": "stream",
     "text": [
      "Aspect ratios of known papers:\n",
      "\n",
      "Broadsheets:\n",
      "The Washington Post: 0.6\n",
      "The Wall Street Journal: 0.5\n",
      "\n",
      "Tabloids:\n",
      "The Chicago Sun Times: 1.1\n",
      "The New York Daily News: 0.8\n",
      "\n"
     ]
    }
   ],
   "source": [
    "print('''Aspect ratios of known papers:\n",
    "\n",
    "Broadsheets:\n",
    "The Washington Post: {}\n",
    "The Wall Street Journal: {}\n",
    "\n",
    "Tabloids:\n",
    "The Chicago Sun Times: {}\n",
    "The New York Daily News: {}\n",
    "'''.format(\n",
    "    df[df.slug == 'DC_WP'].aspect_ratio.mode().iloc[0],\n",
    "    df[df.slug == 'WSJ'].aspect_ratio.mode().iloc[0],\n",
    "    df[df.slug == 'IL_CST'].aspect_ratio.mode().iloc[0],\n",
    "    df[df.slug == 'NY_DN'].aspect_ratio.mode().iloc[0]\n",
    "))"
   ]
  },
  {
   "cell_type": "markdown",
   "metadata": {},
   "source": [
    "By our very rough check, the two broadsheets tended to be >1500px height with an aspect ratio around 1:2, and the tabloids are shorter with an aspect ratio around 1.\n",
    "\n",
    "Let's see how this plays out with font sizes."
   ]
  },
  {
   "cell_type": "code",
   "execution_count": 292,
   "metadata": {},
   "outputs": [],
   "source": [
    "from scipy import stats\n",
    "import numpy as np\n",
    "\n",
    "def mode(heights):\n",
    "    return stats.mode(heights).mode[0]\n",
    "\n",
    "daily_headlines = df.groupby(['date', 'slug']).agg({'fontsize': max, 'page_height': mode, 'aspect_ratio': mode})"
   ]
  },
  {
   "cell_type": "code",
   "execution_count": 293,
   "metadata": {},
   "outputs": [
    {
     "data": {
      "text/html": [
       "<div>\n",
       "<table border=\"1\" class=\"dataframe\">\n",
       "  <thead>\n",
       "    <tr style=\"text-align: right;\">\n",
       "      <th></th>\n",
       "      <th></th>\n",
       "      <th>fontsize</th>\n",
       "      <th>page_height</th>\n",
       "      <th>aspect_ratio</th>\n",
       "    </tr>\n",
       "    <tr>\n",
       "      <th>date</th>\n",
       "      <th>slug</th>\n",
       "      <th></th>\n",
       "      <th></th>\n",
       "      <th></th>\n",
       "    </tr>\n",
       "  </thead>\n",
       "  <tbody>\n",
       "    <tr>\n",
       "      <th rowspan=\"5\" valign=\"top\">2017-04-01</th>\n",
       "      <th>AK_FDNM</th>\n",
       "      <td>57.528</td>\n",
       "      <td>1593.36</td>\n",
       "      <td>0.5</td>\n",
       "    </tr>\n",
       "    <tr>\n",
       "      <th>AL_AS</th>\n",
       "      <td>52.360</td>\n",
       "      <td>1512.00</td>\n",
       "      <td>0.5</td>\n",
       "    </tr>\n",
       "    <tr>\n",
       "      <th>AL_DD</th>\n",
       "      <td>66.000</td>\n",
       "      <td>1512.00</td>\n",
       "      <td>0.5</td>\n",
       "    </tr>\n",
       "    <tr>\n",
       "      <th>AL_DE</th>\n",
       "      <td>101.932</td>\n",
       "      <td>1584.00</td>\n",
       "      <td>0.5</td>\n",
       "    </tr>\n",
       "    <tr>\n",
       "      <th>AL_GT</th>\n",
       "      <td>58.094</td>\n",
       "      <td>1584.00</td>\n",
       "      <td>0.5</td>\n",
       "    </tr>\n",
       "  </tbody>\n",
       "</table>\n",
       "</div>"
      ],
      "text/plain": [
       "                    fontsize  page_height  aspect_ratio\n",
       "date       slug                                        \n",
       "2017-04-01 AK_FDNM    57.528      1593.36           0.5\n",
       "           AL_AS      52.360      1512.00           0.5\n",
       "           AL_DD      66.000      1512.00           0.5\n",
       "           AL_DE     101.932      1584.00           0.5\n",
       "           AL_GT      58.094      1584.00           0.5"
      ]
     },
     "execution_count": 293,
     "metadata": {},
     "output_type": "execute_result"
    }
   ],
   "source": [
    "daily_headlines.head()"
   ]
  },
  {
   "cell_type": "code",
   "execution_count": 294,
   "metadata": {},
   "outputs": [
    {
     "data": {
      "text/html": [
       "<div>\n",
       "<table border=\"1\" class=\"dataframe\">\n",
       "  <thead>\n",
       "    <tr style=\"text-align: right;\">\n",
       "      <th></th>\n",
       "      <th>fontsize</th>\n",
       "      <th>page_height</th>\n",
       "      <th>aspect_ratio</th>\n",
       "      <th>n</th>\n",
       "    </tr>\n",
       "    <tr>\n",
       "      <th>slug</th>\n",
       "      <th></th>\n",
       "      <th></th>\n",
       "      <th></th>\n",
       "      <th></th>\n",
       "    </tr>\n",
       "  </thead>\n",
       "  <tbody>\n",
       "    <tr>\n",
       "      <th>AK_DN</th>\n",
       "      <td>63.871000</td>\n",
       "      <td>1584.00</td>\n",
       "      <td>0.5</td>\n",
       "      <td>2</td>\n",
       "    </tr>\n",
       "    <tr>\n",
       "      <th>AK_DSS</th>\n",
       "      <td>47.356186</td>\n",
       "      <td>1656.00</td>\n",
       "      <td>0.7</td>\n",
       "      <td>97</td>\n",
       "    </tr>\n",
       "    <tr>\n",
       "      <th>AK_FDNM</th>\n",
       "      <td>68.031140</td>\n",
       "      <td>1593.36</td>\n",
       "      <td>0.5</td>\n",
       "      <td>236</td>\n",
       "    </tr>\n",
       "    <tr>\n",
       "      <th>AK_JE</th>\n",
       "      <td>57.275935</td>\n",
       "      <td>1566.00</td>\n",
       "      <td>0.5</td>\n",
       "      <td>200</td>\n",
       "    </tr>\n",
       "    <tr>\n",
       "      <th>AL_ACO</th>\n",
       "      <td>99.147000</td>\n",
       "      <td>1746.00</td>\n",
       "      <td>0.5</td>\n",
       "      <td>4</td>\n",
       "    </tr>\n",
       "  </tbody>\n",
       "</table>\n",
       "</div>"
      ],
      "text/plain": [
       "          fontsize  page_height  aspect_ratio    n\n",
       "slug                                              \n",
       "AK_DN    63.871000      1584.00           0.5    2\n",
       "AK_DSS   47.356186      1656.00           0.7   97\n",
       "AK_FDNM  68.031140      1593.36           0.5  236\n",
       "AK_JE    57.275935      1566.00           0.5  200\n",
       "AL_ACO   99.147000      1746.00           0.5    4"
      ]
     },
     "execution_count": 294,
     "metadata": {},
     "output_type": "execute_result"
    }
   ],
   "source": [
    "avg_size_by_paper = daily_headlines.reset_index().groupby('slug').agg({'fontsize': np.mean, 'page_height': mode, 'aspect_ratio': mode, 'slug': 'count'}).rename(columns={'slug': 'n'})\n",
    "avg_size_by_paper.head()"
   ]
  },
  {
   "cell_type": "code",
   "execution_count": 295,
   "metadata": {},
   "outputs": [
    {
     "data": {
      "text/plain": [
       "count    740.000000\n",
       "mean     147.635135\n",
       "std       85.923381\n",
       "min        1.000000\n",
       "25%       56.750000\n",
       "50%      182.000000\n",
       "75%      231.000000\n",
       "max      237.000000\n",
       "Name: n, dtype: float64"
      ]
     },
     "execution_count": 295,
     "metadata": {},
     "output_type": "execute_result"
    },
    {
     "data": {
      "image/png": "[encoded data removed]",
      "text/plain": [
       "<matplotlib.figure.Figure at 0x7f5ad6697eb8>"
      ]
     },
     "metadata": {},
     "output_type": "display_data"
    }
   ],
   "source": [
    "sns.distplot(avg_size_by_paper['n'], kde=False, bins=30)\n",
    "plt.xlim([0, 250])\n",
    "plt.suptitle(\"Distribution of number of days each paper has records in the scrape\")\n",
    "\n",
    "avg_size_by_paper['n'].describe()"
   ]
  },
  {
   "cell_type": "code",
   "execution_count": 296,
   "metadata": {
    "collapsed": true
   },
   "outputs": [],
   "source": [
    "avg_size_highly_present = avg_size_by_paper[avg_size_by_paper['n'] > 182]  # more than the median"
   ]
  },
  {
   "cell_type": "code",
   "execution_count": 318,
   "metadata": {},
   "outputs": [
    {
     "data": {
      "text/plain": [
       "<matplotlib.text.Text at 0x7f5b31496e10>"
      ]
     },
     "execution_count": 318,
     "metadata": {},
     "output_type": "execute_result"
    },
    {
     "data": {
      "image/png": "[encoded data removed]",
      "text/plain": [
       "<matplotlib.figure.Figure at 0x7f5b3150b940>"
      ]
     },
     "metadata": {},
     "output_type": "display_data"
    }
   ],
   "source": [
    "sns.regplot(avg_size_highly_present.page_height, avg_size_highly_present.fontsize, fit_reg=False)\n",
    "plt.xlabel(\"Page height in pixels\")\n",
    "plt.ylabel(\"Average font point of day's largest headline\")\n",
    "plt.suptitle(\"Each dot is a newspaper\")"
   ]
  },
  {
   "cell_type": "code",
   "execution_count": 317,
   "metadata": {},
   "outputs": [
    {
     "data": {
      "text/plain": [
       "<matplotlib.text.Text at 0x7f5b314967b8>"
      ]
     },
     "execution_count": 317,
     "metadata": {},
     "output_type": "execute_result"
    },
    {
     "data": {
      "image/png": "[encoded data removed]",
      "text/plain": [
       "<matplotlib.figure.Figure at 0x7f5b3180f5f8>"
      ]
     },
     "metadata": {},
     "output_type": "display_data"
    }
   ],
   "source": [
    "sns.regplot(avg_size_highly_present.aspect_ratio, avg_size_highly_present.fontsize, x_jitter=0.01, fit_reg=False)\n",
    "plt.xlabel(\"Aspect ratio (width/height)\")\n",
    "plt.ylabel(\"Average font point of day's largest headline\")\n",
    "plt.suptitle(\"Each dot is a newspaper\")"
   ]
  },
  {
   "cell_type": "code",
   "execution_count": 310,
   "metadata": {},
   "outputs": [
    {
     "data": {
      "text/plain": [
       "<matplotlib.axes._subplots.AxesSubplot at 0x7f5aa3516fd0>"
      ]
     },
     "execution_count": 310,
     "metadata": {},
     "output_type": "execute_result"
    },
    {
     "data": {
      "image/png": "[encoded data removed]",
      "text/plain": [
       "<matplotlib.figure.Figure at 0x7f5ab2256e48>"
      ]
     },
     "metadata": {},
     "output_type": "display_data"
    }
   ],
   "source": [
    "sns.regplot(avg_size_highly_present.aspect_ratio, avg_size_highly_present.fontsize, x_jitter=0.05, fit_reg=False)"
   ]
  },
  {
   "cell_type": "markdown",
   "metadata": {},
   "source": [
    "Three observations:\n",
    "\n",
    "1. There aren't that many \"tabloids\"! (if the page height and aspect ratio heuristics are accurate)\n",
    "2. There is a clear pattern toward larger font-sizes on the higher aspect ratio, lower height end of the spectrum.\n",
    "3. If we add a lot of jitter to the rounded aspect ratio, we end up with a very similar-looking graph to the height itself.\n",
    "\n",
    "So what are those outliers?"
   ]
  },
  {
   "cell_type": "code",
   "execution_count": 306,
   "metadata": {},
   "outputs": [
    {
     "data": {
      "text/html": [
       "<div>\n",
       "<table border=\"1\" class=\"dataframe\">\n",
       "  <thead>\n",
       "    <tr style=\"text-align: right;\">\n",
       "      <th></th>\n",
       "      <th>fontsize</th>\n",
       "      <th>page_height</th>\n",
       "      <th>aspect_ratio</th>\n",
       "      <th>n</th>\n",
       "    </tr>\n",
       "    <tr>\n",
       "      <th>slug</th>\n",
       "      <th></th>\n",
       "      <th></th>\n",
       "      <th></th>\n",
       "      <th></th>\n",
       "    </tr>\n",
       "  </thead>\n",
       "  <tbody>\n",
       "    <tr>\n",
       "      <th>NY_DN</th>\n",
       "      <td>203.829759</td>\n",
       "      <td>878.400</td>\n",
       "      <td>0.8</td>\n",
       "      <td>228</td>\n",
       "    </tr>\n",
       "    <tr>\n",
       "      <th>IL_CST</th>\n",
       "      <td>162.594638</td>\n",
       "      <td>720.000</td>\n",
       "      <td>1.1</td>\n",
       "      <td>232</td>\n",
       "    </tr>\n",
       "    <tr>\n",
       "      <th>NJ_TT</th>\n",
       "      <td>131.437970</td>\n",
       "      <td>792.000</td>\n",
       "      <td>1.0</td>\n",
       "      <td>233</td>\n",
       "    </tr>\n",
       "    <tr>\n",
       "      <th>PA_DCDT</th>\n",
       "      <td>124.709742</td>\n",
       "      <td>792.000</td>\n",
       "      <td>1.0</td>\n",
       "      <td>229</td>\n",
       "    </tr>\n",
       "    <tr>\n",
       "      <th>PA_PDN</th>\n",
       "      <td>121.913063</td>\n",
       "      <td>730.800</td>\n",
       "      <td>1.0</td>\n",
       "      <td>192</td>\n",
       "    </tr>\n",
       "    <tr>\n",
       "      <th>GA_AH</th>\n",
       "      <td>118.049375</td>\n",
       "      <td>1610.160</td>\n",
       "      <td>0.5</td>\n",
       "      <td>200</td>\n",
       "    </tr>\n",
       "    <tr>\n",
       "      <th>SC_IJ</th>\n",
       "      <td>113.504180</td>\n",
       "      <td>1584.000</td>\n",
       "      <td>0.5</td>\n",
       "      <td>222</td>\n",
       "    </tr>\n",
       "    <tr>\n",
       "      <th>NY_EDLP</th>\n",
       "      <td>108.456987</td>\n",
       "      <td>869.695</td>\n",
       "      <td>0.9</td>\n",
       "      <td>232</td>\n",
       "    </tr>\n",
       "    <tr>\n",
       "      <th>OH_TI</th>\n",
       "      <td>105.504005</td>\n",
       "      <td>1548.000</td>\n",
       "      <td>0.5</td>\n",
       "      <td>203</td>\n",
       "    </tr>\n",
       "    <tr>\n",
       "      <th>TX_VMS</th>\n",
       "      <td>104.859916</td>\n",
       "      <td>1440.000</td>\n",
       "      <td>0.5</td>\n",
       "      <td>191</td>\n",
       "    </tr>\n",
       "  </tbody>\n",
       "</table>\n",
       "</div>"
      ],
      "text/plain": [
       "           fontsize  page_height  aspect_ratio    n\n",
       "slug                                               \n",
       "NY_DN    203.829759      878.400           0.8  228\n",
       "IL_CST   162.594638      720.000           1.1  232\n",
       "NJ_TT    131.437970      792.000           1.0  233\n",
       "PA_DCDT  124.709742      792.000           1.0  229\n",
       "PA_PDN   121.913063      730.800           1.0  192\n",
       "GA_AH    118.049375     1610.160           0.5  200\n",
       "SC_IJ    113.504180     1584.000           0.5  222\n",
       "NY_EDLP  108.456987      869.695           0.9  232\n",
       "OH_TI    105.504005     1548.000           0.5  203\n",
       "TX_VMS   104.859916     1440.000           0.5  191"
      ]
     },
     "execution_count": 306,
     "metadata": {},
     "output_type": "execute_result"
    }
   ],
   "source": [
    "avg_size_highly_present.sort_values(by='fontsize', ascending=False).head(10)"
   ]
  },
  {
   "cell_type": "markdown",
   "metadata": {},
   "source": [
    "The biggest outliers with font size for tabloids turned out to be the ones in our most-circulated newspaper dataset, so my prior was skewed toward the large size. However, all 5 of the biggest font-using newspapers were \"tabloids\", so there is some truth to it. The data is a bit too categorical between broadsheet and tabloid, and I'm too fuzzy on the space in between, to make any overarching conclusions!\n",
    "\n",
    "Let's go back and double-check how closely the height maps to the aspect ratio."
   ]
  },
  {
   "cell_type": "code",
   "execution_count": 312,
   "metadata": {},
   "outputs": [
    {
     "data": {
      "text/plain": [
       "<matplotlib.axes._subplots.AxesSubplot at 0x7f593ff93f28>"
      ]
     },
     "execution_count": 312,
     "metadata": {},
     "output_type": "execute_result"
    },
    {
     "data": {
      "image/png": "[encoded data removed]",
      "text/plain": [
       "<matplotlib.figure.Figure at 0x7f5964a0e780>"
      ]
     },
     "metadata": {},
     "output_type": "display_data"
    }
   ],
   "source": [
    "sns.regplot(avg_size_highly_present.aspect_ratio, avg_size_highly_present.page_height, x_jitter=0.01, fit_reg=False)"
   ]
  }
 ],
 "metadata": {
  "kernelspec": {
   "display_name": "Python 3",
   "language": "python",
   "name": "python3"
  },
  "language_info": {
   "codemirror_mode": {
    "name": "ipython",
    "version": 3
   },
   "file_extension": ".py",
   "mimetype": "text/x-python",
   "name": "python",
   "nbconvert_exporter": "python",
   "pygments_lexer": "ipython3",
   "version": "3.6.2"
  }
 },
 "nbformat": 4,
 "nbformat_minor": 2
}
